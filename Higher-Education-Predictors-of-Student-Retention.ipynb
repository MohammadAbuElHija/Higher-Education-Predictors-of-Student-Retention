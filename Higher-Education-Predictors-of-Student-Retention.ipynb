{
 "nbformat": 4,
 "nbformat_minor": 0,
 "metadata": {
  "colab": {
   "provenance": []
  },
  "kernelspec": {
   "name": "python3",
   "display_name": "Python 3"
  },
  "language_info": {
   "name": "python"
  }
 },
 "cells": [
  {
   "cell_type": "code",
   "metadata": {
    "id": "InKv2fclpio4",
    "jupyter": {
     "is_executing": true
    }
   },
   "source": [
    "import pandas as pd\n",
    "import numpy as np\n",
    "import seaborn as sns\n",
    "import matplotlib.pyplot as plt\n",
    "import math\n",
    "from scipy.stats import norm\n",
    "import scipy.stats as stats\n",
    "import statsmodels.api as sm\n",
    "import random\n",
    "from sklearn.linear_model import LinearRegression, LogisticRegression\n",
    "from tabulate import tabulate\n",
    "import pylab"
   ],
   "outputs": [],
   "execution_count": null
  },
  {
   "cell_type": "code",
   "source": [
    "df = pd.read_csv(\"/content/cleaned_data.csv\")\n",
    "df['Debtor'] = df['Debtor'].map({'Yes': 1, 'No': 0})\n",
    "df['Scholarship holder'] = df['Scholarship holder'].map({'Yes': 1, 'No': 0})\n",
    "df"
   ],
   "metadata": {
    "colab": {
     "base_uri": "https://localhost:8080/",
     "height": 823
    },
    "id": "s7FprVgApq3v",
    "outputId": "9095f25c-7fd2-4785-a266-f878751057a4"
   },
   "execution_count": 52,
   "outputs": [
    {
     "output_type": "execute_result",
     "data": {
      "text/plain": [
       "      Application order  Daytime/evening attendance  Age at enrollment  \\\n",
       "0                     5                           1                 20   \n",
       "1                     1                           1                 19   \n",
       "2                     5                           1                 19   \n",
       "3                     2                           1                 20   \n",
       "4                     1                           0                 45   \n",
       "...                 ...                         ...                ...   \n",
       "4419                  6                           1                 19   \n",
       "4420                  2                           1                 18   \n",
       "4421                  1                           1                 30   \n",
       "4422                  1                           1                 20   \n",
       "4423                  1                           1                 22   \n",
       "\n",
       "      Curricular units 1st sem (credited)  \\\n",
       "0                                       0   \n",
       "1                                       0   \n",
       "2                                       0   \n",
       "3                                       0   \n",
       "4                                       0   \n",
       "...                                   ...   \n",
       "4419                                    0   \n",
       "4420                                    0   \n",
       "4421                                    0   \n",
       "4422                                    0   \n",
       "4423                                    0   \n",
       "\n",
       "      Curricular units 1st sem (enrolled)  \\\n",
       "0                                       0   \n",
       "1                                       6   \n",
       "2                                       6   \n",
       "3                                       6   \n",
       "4                                       6   \n",
       "...                                   ...   \n",
       "4419                                    6   \n",
       "4420                                    6   \n",
       "4421                                    7   \n",
       "4422                                    5   \n",
       "4423                                    6   \n",
       "\n",
       "      Curricular units 1st sem (evaluations)  \\\n",
       "0                                          0   \n",
       "1                                          6   \n",
       "2                                          0   \n",
       "3                                          8   \n",
       "4                                          9   \n",
       "...                                      ...   \n",
       "4419                                       7   \n",
       "4420                                       6   \n",
       "4421                                       8   \n",
       "4422                                       5   \n",
       "4423                                       8   \n",
       "\n",
       "      Curricular units 1st sem (approved)  Curricular units 1st sem (grade)  \\\n",
       "0                                       0                          0.000000   \n",
       "1                                       6                         14.000000   \n",
       "2                                       0                          0.000000   \n",
       "3                                       6                         13.428571   \n",
       "4                                       5                         12.333333   \n",
       "...                                   ...                               ...   \n",
       "4419                                    5                         13.600000   \n",
       "4420                                    6                         12.000000   \n",
       "4421                                    7                         14.912500   \n",
       "4422                                    5                         13.800000   \n",
       "4423                                    6                         11.666667   \n",
       "\n",
       "      Curricular units 1st sem (without evaluations)  \\\n",
       "0                                                  0   \n",
       "1                                                  0   \n",
       "2                                                  0   \n",
       "3                                                  0   \n",
       "4                                                  0   \n",
       "...                                              ...   \n",
       "4419                                               0   \n",
       "4420                                               0   \n",
       "4421                                               0   \n",
       "4422                                               0   \n",
       "4423                                               0   \n",
       "\n",
       "      Curricular units 2nd sem (credited)  ...  \\\n",
       "0                                       0  ...   \n",
       "1                                       0  ...   \n",
       "2                                       0  ...   \n",
       "3                                       0  ...   \n",
       "4                                       0  ...   \n",
       "...                                   ...  ...   \n",
       "4419                                    0  ...   \n",
       "4420                                    0  ...   \n",
       "4421                                    0  ...   \n",
       "4422                                    0  ...   \n",
       "4423                                    0  ...   \n",
       "\n",
       "                                 Father's qualification  \\\n",
       "0                          Other—11th Year of Schooling   \n",
       "1                               Higher Education—degree   \n",
       "2     Basic education 1st cycle (4th/5th year) or eq...   \n",
       "3     Basic education 1st cycle (4th/5th year) or eq...   \n",
       "4     Basic Education 2nd Cycle (6th/7th/8th Year) o...   \n",
       "...                                                 ...   \n",
       "4419  Secondary Education—12th Year of Schooling or ...   \n",
       "4420  Secondary Education—12th Year of Schooling or ...   \n",
       "4421  Basic education 1st cycle (4th/5th year) or eq...   \n",
       "4422  Basic education 1st cycle (4th/5th year) or eq...   \n",
       "4423  Basic education 1st cycle (4th/5th year) or eq...   \n",
       "\n",
       "                                    Mother's occupation  \\\n",
       "0     Personal Services, Security and Safety Workers...   \n",
       "1        Intermediate Level Technicians and Professions   \n",
       "2                                     Unskilled Workers   \n",
       "3     Personal Services, Security and Safety Workers...   \n",
       "4                                     Unskilled Workers   \n",
       "...                                                 ...   \n",
       "4419  Personal Services, Security and Safety Workers...   \n",
       "4420                                  Unskilled Workers   \n",
       "4421                                  Unskilled Workers   \n",
       "4422  Skilled Workers in Industry, Construction, and...   \n",
       "4423  Personal Services, Security and Safety Workers...   \n",
       "\n",
       "                                 Father's occupation  Displaced  \\\n",
       "0                                  Unskilled Workers        Yes   \n",
       "1     Intermediate Level Technicians and Professions        Yes   \n",
       "2                                  Unskilled Workers        Yes   \n",
       "3     Intermediate Level Technicians and Professions        Yes   \n",
       "4                                  Unskilled Workers         No   \n",
       "...                                              ...        ...   \n",
       "4419                            Administrative staff         No   \n",
       "4420                               Unskilled Workers        Yes   \n",
       "4421                               Unskilled Workers        Yes   \n",
       "4422                            Administrative staff        Yes   \n",
       "4423                               Unskilled Workers        Yes   \n",
       "\n",
       "      Educational special needs  Debtor  Tuition fees up to date  \\\n",
       "0                            No       0                      Yes   \n",
       "1                            No       0                       No   \n",
       "2                            No       0                       No   \n",
       "3                            No       0                      Yes   \n",
       "4                            No       0                      Yes   \n",
       "...                         ...     ...                      ...   \n",
       "4419                         No       0                      Yes   \n",
       "4420                         No       1                       No   \n",
       "4421                         No       0                      Yes   \n",
       "4422                         No       0                      Yes   \n",
       "4423                         No       0                      Yes   \n",
       "\n",
       "      Scholarship holder International  Gender  \n",
       "0                      0            No    Male  \n",
       "1                      0            No    Male  \n",
       "2                      0            No    Male  \n",
       "3                      0            No  Female  \n",
       "4                      0            No  Female  \n",
       "...                  ...           ...     ...  \n",
       "4419                   0            No    Male  \n",
       "4420                   0           Yes  Female  \n",
       "4421                   1            No  Female  \n",
       "4422                   1            No  Female  \n",
       "4423                   0           Yes  Female  \n",
       "\n",
       "[4424 rows x 35 columns]"
      ],
      "text/html": [
       "\n",
       "  <div id=\"df-9e624ad2-ce9e-44d6-bc0a-b20e3df81a46\" class=\"colab-df-container\">\n",
       "    <div>\n",
       "<style scoped>\n",
       "    .dataframe tbody tr th:only-of-type {\n",
       "        vertical-align: middle;\n",
       "    }\n",
       "\n",
       "    .dataframe tbody tr th {\n",
       "        vertical-align: top;\n",
       "    }\n",
       "\n",
       "    .dataframe thead th {\n",
       "        text-align: right;\n",
       "    }\n",
       "</style>\n",
       "<table border=\"1\" class=\"dataframe\">\n",
       "  <thead>\n",
       "    <tr style=\"text-align: right;\">\n",
       "      <th></th>\n",
       "      <th>Application order</th>\n",
       "      <th>Daytime/evening attendance</th>\n",
       "      <th>Age at enrollment</th>\n",
       "      <th>Curricular units 1st sem (credited)</th>\n",
       "      <th>Curricular units 1st sem (enrolled)</th>\n",
       "      <th>Curricular units 1st sem (evaluations)</th>\n",
       "      <th>Curricular units 1st sem (approved)</th>\n",
       "      <th>Curricular units 1st sem (grade)</th>\n",
       "      <th>Curricular units 1st sem (without evaluations)</th>\n",
       "      <th>Curricular units 2nd sem (credited)</th>\n",
       "      <th>...</th>\n",
       "      <th>Father's qualification</th>\n",
       "      <th>Mother's occupation</th>\n",
       "      <th>Father's occupation</th>\n",
       "      <th>Displaced</th>\n",
       "      <th>Educational special needs</th>\n",
       "      <th>Debtor</th>\n",
       "      <th>Tuition fees up to date</th>\n",
       "      <th>Scholarship holder</th>\n",
       "      <th>International</th>\n",
       "      <th>Gender</th>\n",
       "    </tr>\n",
       "  </thead>\n",
       "  <tbody>\n",
       "    <tr>\n",
       "      <th>0</th>\n",
       "      <td>5</td>\n",
       "      <td>1</td>\n",
       "      <td>20</td>\n",
       "      <td>0</td>\n",
       "      <td>0</td>\n",
       "      <td>0</td>\n",
       "      <td>0</td>\n",
       "      <td>0.000000</td>\n",
       "      <td>0</td>\n",
       "      <td>0</td>\n",
       "      <td>...</td>\n",
       "      <td>Other—11th Year of Schooling</td>\n",
       "      <td>Personal Services, Security and Safety Workers...</td>\n",
       "      <td>Unskilled Workers</td>\n",
       "      <td>Yes</td>\n",
       "      <td>No</td>\n",
       "      <td>0</td>\n",
       "      <td>Yes</td>\n",
       "      <td>0</td>\n",
       "      <td>No</td>\n",
       "      <td>Male</td>\n",
       "    </tr>\n",
       "    <tr>\n",
       "      <th>1</th>\n",
       "      <td>1</td>\n",
       "      <td>1</td>\n",
       "      <td>19</td>\n",
       "      <td>0</td>\n",
       "      <td>6</td>\n",
       "      <td>6</td>\n",
       "      <td>6</td>\n",
       "      <td>14.000000</td>\n",
       "      <td>0</td>\n",
       "      <td>0</td>\n",
       "      <td>...</td>\n",
       "      <td>Higher Education—degree</td>\n",
       "      <td>Intermediate Level Technicians and Professions</td>\n",
       "      <td>Intermediate Level Technicians and Professions</td>\n",
       "      <td>Yes</td>\n",
       "      <td>No</td>\n",
       "      <td>0</td>\n",
       "      <td>No</td>\n",
       "      <td>0</td>\n",
       "      <td>No</td>\n",
       "      <td>Male</td>\n",
       "    </tr>\n",
       "    <tr>\n",
       "      <th>2</th>\n",
       "      <td>5</td>\n",
       "      <td>1</td>\n",
       "      <td>19</td>\n",
       "      <td>0</td>\n",
       "      <td>6</td>\n",
       "      <td>0</td>\n",
       "      <td>0</td>\n",
       "      <td>0.000000</td>\n",
       "      <td>0</td>\n",
       "      <td>0</td>\n",
       "      <td>...</td>\n",
       "      <td>Basic education 1st cycle (4th/5th year) or eq...</td>\n",
       "      <td>Unskilled Workers</td>\n",
       "      <td>Unskilled Workers</td>\n",
       "      <td>Yes</td>\n",
       "      <td>No</td>\n",
       "      <td>0</td>\n",
       "      <td>No</td>\n",
       "      <td>0</td>\n",
       "      <td>No</td>\n",
       "      <td>Male</td>\n",
       "    </tr>\n",
       "    <tr>\n",
       "      <th>3</th>\n",
       "      <td>2</td>\n",
       "      <td>1</td>\n",
       "      <td>20</td>\n",
       "      <td>0</td>\n",
       "      <td>6</td>\n",
       "      <td>8</td>\n",
       "      <td>6</td>\n",
       "      <td>13.428571</td>\n",
       "      <td>0</td>\n",
       "      <td>0</td>\n",
       "      <td>...</td>\n",
       "      <td>Basic education 1st cycle (4th/5th year) or eq...</td>\n",
       "      <td>Personal Services, Security and Safety Workers...</td>\n",
       "      <td>Intermediate Level Technicians and Professions</td>\n",
       "      <td>Yes</td>\n",
       "      <td>No</td>\n",
       "      <td>0</td>\n",
       "      <td>Yes</td>\n",
       "      <td>0</td>\n",
       "      <td>No</td>\n",
       "      <td>Female</td>\n",
       "    </tr>\n",
       "    <tr>\n",
       "      <th>4</th>\n",
       "      <td>1</td>\n",
       "      <td>0</td>\n",
       "      <td>45</td>\n",
       "      <td>0</td>\n",
       "      <td>6</td>\n",
       "      <td>9</td>\n",
       "      <td>5</td>\n",
       "      <td>12.333333</td>\n",
       "      <td>0</td>\n",
       "      <td>0</td>\n",
       "      <td>...</td>\n",
       "      <td>Basic Education 2nd Cycle (6th/7th/8th Year) o...</td>\n",
       "      <td>Unskilled Workers</td>\n",
       "      <td>Unskilled Workers</td>\n",
       "      <td>No</td>\n",
       "      <td>No</td>\n",
       "      <td>0</td>\n",
       "      <td>Yes</td>\n",
       "      <td>0</td>\n",
       "      <td>No</td>\n",
       "      <td>Female</td>\n",
       "    </tr>\n",
       "    <tr>\n",
       "      <th>...</th>\n",
       "      <td>...</td>\n",
       "      <td>...</td>\n",
       "      <td>...</td>\n",
       "      <td>...</td>\n",
       "      <td>...</td>\n",
       "      <td>...</td>\n",
       "      <td>...</td>\n",
       "      <td>...</td>\n",
       "      <td>...</td>\n",
       "      <td>...</td>\n",
       "      <td>...</td>\n",
       "      <td>...</td>\n",
       "      <td>...</td>\n",
       "      <td>...</td>\n",
       "      <td>...</td>\n",
       "      <td>...</td>\n",
       "      <td>...</td>\n",
       "      <td>...</td>\n",
       "      <td>...</td>\n",
       "      <td>...</td>\n",
       "      <td>...</td>\n",
       "    </tr>\n",
       "    <tr>\n",
       "      <th>4419</th>\n",
       "      <td>6</td>\n",
       "      <td>1</td>\n",
       "      <td>19</td>\n",
       "      <td>0</td>\n",
       "      <td>6</td>\n",
       "      <td>7</td>\n",
       "      <td>5</td>\n",
       "      <td>13.600000</td>\n",
       "      <td>0</td>\n",
       "      <td>0</td>\n",
       "      <td>...</td>\n",
       "      <td>Secondary Education—12th Year of Schooling or ...</td>\n",
       "      <td>Personal Services, Security and Safety Workers...</td>\n",
       "      <td>Administrative staff</td>\n",
       "      <td>No</td>\n",
       "      <td>No</td>\n",
       "      <td>0</td>\n",
       "      <td>Yes</td>\n",
       "      <td>0</td>\n",
       "      <td>No</td>\n",
       "      <td>Male</td>\n",
       "    </tr>\n",
       "    <tr>\n",
       "      <th>4420</th>\n",
       "      <td>2</td>\n",
       "      <td>1</td>\n",
       "      <td>18</td>\n",
       "      <td>0</td>\n",
       "      <td>6</td>\n",
       "      <td>6</td>\n",
       "      <td>6</td>\n",
       "      <td>12.000000</td>\n",
       "      <td>0</td>\n",
       "      <td>0</td>\n",
       "      <td>...</td>\n",
       "      <td>Secondary Education—12th Year of Schooling or ...</td>\n",
       "      <td>Unskilled Workers</td>\n",
       "      <td>Unskilled Workers</td>\n",
       "      <td>Yes</td>\n",
       "      <td>No</td>\n",
       "      <td>1</td>\n",
       "      <td>No</td>\n",
       "      <td>0</td>\n",
       "      <td>Yes</td>\n",
       "      <td>Female</td>\n",
       "    </tr>\n",
       "    <tr>\n",
       "      <th>4421</th>\n",
       "      <td>1</td>\n",
       "      <td>1</td>\n",
       "      <td>30</td>\n",
       "      <td>0</td>\n",
       "      <td>7</td>\n",
       "      <td>8</td>\n",
       "      <td>7</td>\n",
       "      <td>14.912500</td>\n",
       "      <td>0</td>\n",
       "      <td>0</td>\n",
       "      <td>...</td>\n",
       "      <td>Basic education 1st cycle (4th/5th year) or eq...</td>\n",
       "      <td>Unskilled Workers</td>\n",
       "      <td>Unskilled Workers</td>\n",
       "      <td>Yes</td>\n",
       "      <td>No</td>\n",
       "      <td>0</td>\n",
       "      <td>Yes</td>\n",
       "      <td>1</td>\n",
       "      <td>No</td>\n",
       "      <td>Female</td>\n",
       "    </tr>\n",
       "    <tr>\n",
       "      <th>4422</th>\n",
       "      <td>1</td>\n",
       "      <td>1</td>\n",
       "      <td>20</td>\n",
       "      <td>0</td>\n",
       "      <td>5</td>\n",
       "      <td>5</td>\n",
       "      <td>5</td>\n",
       "      <td>13.800000</td>\n",
       "      <td>0</td>\n",
       "      <td>0</td>\n",
       "      <td>...</td>\n",
       "      <td>Basic education 1st cycle (4th/5th year) or eq...</td>\n",
       "      <td>Skilled Workers in Industry, Construction, and...</td>\n",
       "      <td>Administrative staff</td>\n",
       "      <td>Yes</td>\n",
       "      <td>No</td>\n",
       "      <td>0</td>\n",
       "      <td>Yes</td>\n",
       "      <td>1</td>\n",
       "      <td>No</td>\n",
       "      <td>Female</td>\n",
       "    </tr>\n",
       "    <tr>\n",
       "      <th>4423</th>\n",
       "      <td>1</td>\n",
       "      <td>1</td>\n",
       "      <td>22</td>\n",
       "      <td>0</td>\n",
       "      <td>6</td>\n",
       "      <td>8</td>\n",
       "      <td>6</td>\n",
       "      <td>11.666667</td>\n",
       "      <td>0</td>\n",
       "      <td>0</td>\n",
       "      <td>...</td>\n",
       "      <td>Basic education 1st cycle (4th/5th year) or eq...</td>\n",
       "      <td>Personal Services, Security and Safety Workers...</td>\n",
       "      <td>Unskilled Workers</td>\n",
       "      <td>Yes</td>\n",
       "      <td>No</td>\n",
       "      <td>0</td>\n",
       "      <td>Yes</td>\n",
       "      <td>0</td>\n",
       "      <td>Yes</td>\n",
       "      <td>Female</td>\n",
       "    </tr>\n",
       "  </tbody>\n",
       "</table>\n",
       "<p>4424 rows × 35 columns</p>\n",
       "</div>\n",
       "    <div class=\"colab-df-buttons\">\n",
       "\n",
       "  <div class=\"colab-df-container\">\n",
       "    <button class=\"colab-df-convert\" onclick=\"convertToInteractive('df-9e624ad2-ce9e-44d6-bc0a-b20e3df81a46')\"\n",
       "            title=\"Convert this dataframe to an interactive table.\"\n",
       "            style=\"display:none;\">\n",
       "\n",
       "  <svg xmlns=\"http://www.w3.org/2000/svg\" height=\"24px\" viewBox=\"0 -960 960 960\">\n",
       "    <path d=\"M120-120v-720h720v720H120Zm60-500h600v-160H180v160Zm220 220h160v-160H400v160Zm0 220h160v-160H400v160ZM180-400h160v-160H180v160Zm440 0h160v-160H620v160ZM180-180h160v-160H180v160Zm440 0h160v-160H620v160Z\"/>\n",
       "  </svg>\n",
       "    </button>\n",
       "\n",
       "  <style>\n",
       "    .colab-df-container {\n",
       "      display:flex;\n",
       "      gap: 12px;\n",
       "    }\n",
       "\n",
       "    .colab-df-convert {\n",
       "      background-color: #E8F0FE;\n",
       "      border: none;\n",
       "      border-radius: 50%;\n",
       "      cursor: pointer;\n",
       "      display: none;\n",
       "      fill: #1967D2;\n",
       "      height: 32px;\n",
       "      padding: 0 0 0 0;\n",
       "      width: 32px;\n",
       "    }\n",
       "\n",
       "    .colab-df-convert:hover {\n",
       "      background-color: #E2EBFA;\n",
       "      box-shadow: 0px 1px 2px rgba(60, 64, 67, 0.3), 0px 1px 3px 1px rgba(60, 64, 67, 0.15);\n",
       "      fill: #174EA6;\n",
       "    }\n",
       "\n",
       "    .colab-df-buttons div {\n",
       "      margin-bottom: 4px;\n",
       "    }\n",
       "\n",
       "    [theme=dark] .colab-df-convert {\n",
       "      background-color: #3B4455;\n",
       "      fill: #D2E3FC;\n",
       "    }\n",
       "\n",
       "    [theme=dark] .colab-df-convert:hover {\n",
       "      background-color: #434B5C;\n",
       "      box-shadow: 0px 1px 3px 1px rgba(0, 0, 0, 0.15);\n",
       "      filter: drop-shadow(0px 1px 2px rgba(0, 0, 0, 0.3));\n",
       "      fill: #FFFFFF;\n",
       "    }\n",
       "  </style>\n",
       "\n",
       "    <script>\n",
       "      const buttonEl =\n",
       "        document.querySelector('#df-9e624ad2-ce9e-44d6-bc0a-b20e3df81a46 button.colab-df-convert');\n",
       "      buttonEl.style.display =\n",
       "        google.colab.kernel.accessAllowed ? 'block' : 'none';\n",
       "\n",
       "      async function convertToInteractive(key) {\n",
       "        const element = document.querySelector('#df-9e624ad2-ce9e-44d6-bc0a-b20e3df81a46');\n",
       "        const dataTable =\n",
       "          await google.colab.kernel.invokeFunction('convertToInteractive',\n",
       "                                                    [key], {});\n",
       "        if (!dataTable) return;\n",
       "\n",
       "        const docLinkHtml = 'Like what you see? Visit the ' +\n",
       "          '<a target=\"_blank\" href=https://colab.research.google.com/notebooks/data_table.ipynb>data table notebook</a>'\n",
       "          + ' to learn more about interactive tables.';\n",
       "        element.innerHTML = '';\n",
       "        dataTable['output_type'] = 'display_data';\n",
       "        await google.colab.output.renderOutput(dataTable, element);\n",
       "        const docLink = document.createElement('div');\n",
       "        docLink.innerHTML = docLinkHtml;\n",
       "        element.appendChild(docLink);\n",
       "      }\n",
       "    </script>\n",
       "  </div>\n",
       "\n",
       "\n",
       "<div id=\"df-a5cb5462-b762-42f2-8496-935b92d3de9e\">\n",
       "  <button class=\"colab-df-quickchart\" onclick=\"quickchart('df-a5cb5462-b762-42f2-8496-935b92d3de9e')\"\n",
       "            title=\"Suggest charts\"\n",
       "            style=\"display:none;\">\n",
       "\n",
       "<svg xmlns=\"http://www.w3.org/2000/svg\" height=\"24px\"viewBox=\"0 0 24 24\"\n",
       "     width=\"24px\">\n",
       "    <g>\n",
       "        <path d=\"M19 3H5c-1.1 0-2 .9-2 2v14c0 1.1.9 2 2 2h14c1.1 0 2-.9 2-2V5c0-1.1-.9-2-2-2zM9 17H7v-7h2v7zm4 0h-2V7h2v10zm4 0h-2v-4h2v4z\"/>\n",
       "    </g>\n",
       "</svg>\n",
       "  </button>\n",
       "\n",
       "<style>\n",
       "  .colab-df-quickchart {\n",
       "      --bg-color: #E8F0FE;\n",
       "      --fill-color: #1967D2;\n",
       "      --hover-bg-color: #E2EBFA;\n",
       "      --hover-fill-color: #174EA6;\n",
       "      --disabled-fill-color: #AAA;\n",
       "      --disabled-bg-color: #DDD;\n",
       "  }\n",
       "\n",
       "  [theme=dark] .colab-df-quickchart {\n",
       "      --bg-color: #3B4455;\n",
       "      --fill-color: #D2E3FC;\n",
       "      --hover-bg-color: #434B5C;\n",
       "      --hover-fill-color: #FFFFFF;\n",
       "      --disabled-bg-color: #3B4455;\n",
       "      --disabled-fill-color: #666;\n",
       "  }\n",
       "\n",
       "  .colab-df-quickchart {\n",
       "    background-color: var(--bg-color);\n",
       "    border: none;\n",
       "    border-radius: 50%;\n",
       "    cursor: pointer;\n",
       "    display: none;\n",
       "    fill: var(--fill-color);\n",
       "    height: 32px;\n",
       "    padding: 0;\n",
       "    width: 32px;\n",
       "  }\n",
       "\n",
       "  .colab-df-quickchart:hover {\n",
       "    background-color: var(--hover-bg-color);\n",
       "    box-shadow: 0 1px 2px rgba(60, 64, 67, 0.3), 0 1px 3px 1px rgba(60, 64, 67, 0.15);\n",
       "    fill: var(--button-hover-fill-color);\n",
       "  }\n",
       "\n",
       "  .colab-df-quickchart-complete:disabled,\n",
       "  .colab-df-quickchart-complete:disabled:hover {\n",
       "    background-color: var(--disabled-bg-color);\n",
       "    fill: var(--disabled-fill-color);\n",
       "    box-shadow: none;\n",
       "  }\n",
       "\n",
       "  .colab-df-spinner {\n",
       "    border: 2px solid var(--fill-color);\n",
       "    border-color: transparent;\n",
       "    border-bottom-color: var(--fill-color);\n",
       "    animation:\n",
       "      spin 1s steps(1) infinite;\n",
       "  }\n",
       "\n",
       "  @keyframes spin {\n",
       "    0% {\n",
       "      border-color: transparent;\n",
       "      border-bottom-color: var(--fill-color);\n",
       "      border-left-color: var(--fill-color);\n",
       "    }\n",
       "    20% {\n",
       "      border-color: transparent;\n",
       "      border-left-color: var(--fill-color);\n",
       "      border-top-color: var(--fill-color);\n",
       "    }\n",
       "    30% {\n",
       "      border-color: transparent;\n",
       "      border-left-color: var(--fill-color);\n",
       "      border-top-color: var(--fill-color);\n",
       "      border-right-color: var(--fill-color);\n",
       "    }\n",
       "    40% {\n",
       "      border-color: transparent;\n",
       "      border-right-color: var(--fill-color);\n",
       "      border-top-color: var(--fill-color);\n",
       "    }\n",
       "    60% {\n",
       "      border-color: transparent;\n",
       "      border-right-color: var(--fill-color);\n",
       "    }\n",
       "    80% {\n",
       "      border-color: transparent;\n",
       "      border-right-color: var(--fill-color);\n",
       "      border-bottom-color: var(--fill-color);\n",
       "    }\n",
       "    90% {\n",
       "      border-color: transparent;\n",
       "      border-bottom-color: var(--fill-color);\n",
       "    }\n",
       "  }\n",
       "</style>\n",
       "\n",
       "  <script>\n",
       "    async function quickchart(key) {\n",
       "      const quickchartButtonEl =\n",
       "        document.querySelector('#' + key + ' button');\n",
       "      quickchartButtonEl.disabled = true;  // To prevent multiple clicks.\n",
       "      quickchartButtonEl.classList.add('colab-df-spinner');\n",
       "      try {\n",
       "        const charts = await google.colab.kernel.invokeFunction(\n",
       "            'suggestCharts', [key], {});\n",
       "      } catch (error) {\n",
       "        console.error('Error during call to suggestCharts:', error);\n",
       "      }\n",
       "      quickchartButtonEl.classList.remove('colab-df-spinner');\n",
       "      quickchartButtonEl.classList.add('colab-df-quickchart-complete');\n",
       "    }\n",
       "    (() => {\n",
       "      let quickchartButtonEl =\n",
       "        document.querySelector('#df-a5cb5462-b762-42f2-8496-935b92d3de9e button');\n",
       "      quickchartButtonEl.style.display =\n",
       "        google.colab.kernel.accessAllowed ? 'block' : 'none';\n",
       "    })();\n",
       "  </script>\n",
       "</div>\n",
       "\n",
       "  <div id=\"id_b9fb056e-5689-4f91-8859-a2b2c48750ef\">\n",
       "    <style>\n",
       "      .colab-df-generate {\n",
       "        background-color: #E8F0FE;\n",
       "        border: none;\n",
       "        border-radius: 50%;\n",
       "        cursor: pointer;\n",
       "        display: none;\n",
       "        fill: #1967D2;\n",
       "        height: 32px;\n",
       "        padding: 0 0 0 0;\n",
       "        width: 32px;\n",
       "      }\n",
       "\n",
       "      .colab-df-generate:hover {\n",
       "        background-color: #E2EBFA;\n",
       "        box-shadow: 0px 1px 2px rgba(60, 64, 67, 0.3), 0px 1px 3px 1px rgba(60, 64, 67, 0.15);\n",
       "        fill: #174EA6;\n",
       "      }\n",
       "\n",
       "      [theme=dark] .colab-df-generate {\n",
       "        background-color: #3B4455;\n",
       "        fill: #D2E3FC;\n",
       "      }\n",
       "\n",
       "      [theme=dark] .colab-df-generate:hover {\n",
       "        background-color: #434B5C;\n",
       "        box-shadow: 0px 1px 3px 1px rgba(0, 0, 0, 0.15);\n",
       "        filter: drop-shadow(0px 1px 2px rgba(0, 0, 0, 0.3));\n",
       "        fill: #FFFFFF;\n",
       "      }\n",
       "    </style>\n",
       "    <button class=\"colab-df-generate\" onclick=\"generateWithVariable('df')\"\n",
       "            title=\"Generate code using this dataframe.\"\n",
       "            style=\"display:none;\">\n",
       "\n",
       "  <svg xmlns=\"http://www.w3.org/2000/svg\" height=\"24px\"viewBox=\"0 0 24 24\"\n",
       "       width=\"24px\">\n",
       "    <path d=\"M7,19H8.4L18.45,9,17,7.55,7,17.6ZM5,21V16.75L18.45,3.32a2,2,0,0,1,2.83,0l1.4,1.43a1.91,1.91,0,0,1,.58,1.4,1.91,1.91,0,0,1-.58,1.4L9.25,21ZM18.45,9,17,7.55Zm-12,3A5.31,5.31,0,0,0,4.9,8.1,5.31,5.31,0,0,0,1,6.5,5.31,5.31,0,0,0,4.9,4.9,5.31,5.31,0,0,0,6.5,1,5.31,5.31,0,0,0,8.1,4.9,5.31,5.31,0,0,0,12,6.5,5.46,5.46,0,0,0,6.5,12Z\"/>\n",
       "  </svg>\n",
       "    </button>\n",
       "    <script>\n",
       "      (() => {\n",
       "      const buttonEl =\n",
       "        document.querySelector('#id_b9fb056e-5689-4f91-8859-a2b2c48750ef button.colab-df-generate');\n",
       "      buttonEl.style.display =\n",
       "        google.colab.kernel.accessAllowed ? 'block' : 'none';\n",
       "\n",
       "      buttonEl.onclick = () => {\n",
       "        google.colab.notebook.generateWithVariable('df');\n",
       "      }\n",
       "      })();\n",
       "    </script>\n",
       "  </div>\n",
       "\n",
       "    </div>\n",
       "  </div>\n"
      ],
      "application/vnd.google.colaboratory.intrinsic+json": {
       "type": "dataframe",
       "variable_name": "df"
      }
     },
     "metadata": {},
     "execution_count": 52
    }
   ]
  },
  {
   "cell_type": "markdown",
   "source": [
    "Part A:"
   ],
   "metadata": {
    "id": "QJVqbykdqEVU"
   }
  },
  {
   "cell_type": "markdown",
   "source": [
    "1)\n",
    "Research Question:\n",
    "\n",
    "we will use these explanatory varibales:\n",
    "\n",
    "1.Debtor (discrete)\n",
    "\n",
    "2.Curricular units 1st sem - grade (continuous)\n",
    "\n",
    "3.GDP\n",
    "\n",
    "the explained varibale is:\n",
    "\n",
    "Curricular units 2nd sem (grade): , that is a continuous variable\n",
    "\n",
    "The question is:\n",
    "\n",
    "what is the effect of Age at enrollment, Curricular units 1st sem grade and GDP on Curricular units 2nd sem (grade)?"
   ],
   "metadata": {
    "id": "QnN2wuReqcqA"
   }
  },
  {
   "cell_type": "code",
   "source": [
    "np.random.seed(1)\n",
    "sampled_data=df.sample(n=200)\n",
    "## taking only the columns we are working with\n",
    "covariates=sampled_data[['Debtor','Curricular units 1st sem (grade)','GDP']]\n",
    "Y=sampled_data['Curricular units 2nd sem (grade)']\n",
    "covariates_np=covariates.to_numpy()"
   ],
   "metadata": {
    "id": "LpdL65a3qDAz"
   },
   "execution_count": null,
   "outputs": []
  },
  {
   "cell_type": "markdown",
   "source": [
    "2) Data Analysis:\n",
    "Let's begin by examining the continuous variables: Curricular units 1st sem (grade), GDP, Curricular units 2nd sem (grade), We'll start by presenting key statistical metrics. Subsequently, we'll utilize a box plot to visually represent these statistical measures. Additionally, we'll plot histograms to provide insights into the overall characteristics of each variable's distribution. The box plot helps in visualizing the summary statistics from the table, while the histograms offer a visual representation of the underlying distribution patterns of the variables."
   ],
   "metadata": {
    "id": "Co45cIZxscNG"
   }
  },
  {
   "cell_type": "code",
   "source": [
    "continuous_variables = ['Curricular units 1st sem (grade)','GDP','Curricular units 2nd sem (grade)']\n",
    "statistical_data = sampled_data[continuous_variables].describe(percentiles=[0.25, 0.5, 0.75]).round(2)[1:]\n",
    "statistical_data"
   ],
   "metadata": {
    "colab": {
     "base_uri": "https://localhost:8080/",
     "height": 269
    },
    "id": "TvjCLwPZszeW",
    "outputId": "bcb1a924-70bb-4173-d2b8-d32df6637abc"
   },
   "execution_count": null,
   "outputs": [
    {
     "output_type": "execute_result",
     "data": {
      "text/plain": [
       "      Curricular units 1st sem (grade)   GDP  Curricular units 2nd sem (grade)\n",
       "mean                             11.48  0.26                             10.98\n",
       "std                               4.22  2.30                              4.61\n",
       "min                               0.00 -4.06                              0.00\n",
       "25%                              11.58 -1.70                             11.33\n",
       "50%                              12.67  0.79                             12.42\n",
       "75%                              13.69  1.79                             13.33\n",
       "max                              18.88  3.51                             17.69"
      ],
      "text/html": [
       "\n",
       "  <div id=\"df-5e8ba1c6-e785-43a9-b683-7f7be4ba244d\" class=\"colab-df-container\">\n",
       "    <div>\n",
       "<style scoped>\n",
       "    .dataframe tbody tr th:only-of-type {\n",
       "        vertical-align: middle;\n",
       "    }\n",
       "\n",
       "    .dataframe tbody tr th {\n",
       "        vertical-align: top;\n",
       "    }\n",
       "\n",
       "    .dataframe thead th {\n",
       "        text-align: right;\n",
       "    }\n",
       "</style>\n",
       "<table border=\"1\" class=\"dataframe\">\n",
       "  <thead>\n",
       "    <tr style=\"text-align: right;\">\n",
       "      <th></th>\n",
       "      <th>Curricular units 1st sem (grade)</th>\n",
       "      <th>GDP</th>\n",
       "      <th>Curricular units 2nd sem (grade)</th>\n",
       "    </tr>\n",
       "  </thead>\n",
       "  <tbody>\n",
       "    <tr>\n",
       "      <th>mean</th>\n",
       "      <td>11.48</td>\n",
       "      <td>0.26</td>\n",
       "      <td>10.98</td>\n",
       "    </tr>\n",
       "    <tr>\n",
       "      <th>std</th>\n",
       "      <td>4.22</td>\n",
       "      <td>2.30</td>\n",
       "      <td>4.61</td>\n",
       "    </tr>\n",
       "    <tr>\n",
       "      <th>min</th>\n",
       "      <td>0.00</td>\n",
       "      <td>-4.06</td>\n",
       "      <td>0.00</td>\n",
       "    </tr>\n",
       "    <tr>\n",
       "      <th>25%</th>\n",
       "      <td>11.58</td>\n",
       "      <td>-1.70</td>\n",
       "      <td>11.33</td>\n",
       "    </tr>\n",
       "    <tr>\n",
       "      <th>50%</th>\n",
       "      <td>12.67</td>\n",
       "      <td>0.79</td>\n",
       "      <td>12.42</td>\n",
       "    </tr>\n",
       "    <tr>\n",
       "      <th>75%</th>\n",
       "      <td>13.69</td>\n",
       "      <td>1.79</td>\n",
       "      <td>13.33</td>\n",
       "    </tr>\n",
       "    <tr>\n",
       "      <th>max</th>\n",
       "      <td>18.88</td>\n",
       "      <td>3.51</td>\n",
       "      <td>17.69</td>\n",
       "    </tr>\n",
       "  </tbody>\n",
       "</table>\n",
       "</div>\n",
       "    <div class=\"colab-df-buttons\">\n",
       "\n",
       "  <div class=\"colab-df-container\">\n",
       "    <button class=\"colab-df-convert\" onclick=\"convertToInteractive('df-5e8ba1c6-e785-43a9-b683-7f7be4ba244d')\"\n",
       "            title=\"Convert this dataframe to an interactive table.\"\n",
       "            style=\"display:none;\">\n",
       "\n",
       "  <svg xmlns=\"http://www.w3.org/2000/svg\" height=\"24px\" viewBox=\"0 -960 960 960\">\n",
       "    <path d=\"M120-120v-720h720v720H120Zm60-500h600v-160H180v160Zm220 220h160v-160H400v160Zm0 220h160v-160H400v160ZM180-400h160v-160H180v160Zm440 0h160v-160H620v160ZM180-180h160v-160H180v160Zm440 0h160v-160H620v160Z\"/>\n",
       "  </svg>\n",
       "    </button>\n",
       "\n",
       "  <style>\n",
       "    .colab-df-container {\n",
       "      display:flex;\n",
       "      gap: 12px;\n",
       "    }\n",
       "\n",
       "    .colab-df-convert {\n",
       "      background-color: #E8F0FE;\n",
       "      border: none;\n",
       "      border-radius: 50%;\n",
       "      cursor: pointer;\n",
       "      display: none;\n",
       "      fill: #1967D2;\n",
       "      height: 32px;\n",
       "      padding: 0 0 0 0;\n",
       "      width: 32px;\n",
       "    }\n",
       "\n",
       "    .colab-df-convert:hover {\n",
       "      background-color: #E2EBFA;\n",
       "      box-shadow: 0px 1px 2px rgba(60, 64, 67, 0.3), 0px 1px 3px 1px rgba(60, 64, 67, 0.15);\n",
       "      fill: #174EA6;\n",
       "    }\n",
       "\n",
       "    .colab-df-buttons div {\n",
       "      margin-bottom: 4px;\n",
       "    }\n",
       "\n",
       "    [theme=dark] .colab-df-convert {\n",
       "      background-color: #3B4455;\n",
       "      fill: #D2E3FC;\n",
       "    }\n",
       "\n",
       "    [theme=dark] .colab-df-convert:hover {\n",
       "      background-color: #434B5C;\n",
       "      box-shadow: 0px 1px 3px 1px rgba(0, 0, 0, 0.15);\n",
       "      filter: drop-shadow(0px 1px 2px rgba(0, 0, 0, 0.3));\n",
       "      fill: #FFFFFF;\n",
       "    }\n",
       "  </style>\n",
       "\n",
       "    <script>\n",
       "      const buttonEl =\n",
       "        document.querySelector('#df-5e8ba1c6-e785-43a9-b683-7f7be4ba244d button.colab-df-convert');\n",
       "      buttonEl.style.display =\n",
       "        google.colab.kernel.accessAllowed ? 'block' : 'none';\n",
       "\n",
       "      async function convertToInteractive(key) {\n",
       "        const element = document.querySelector('#df-5e8ba1c6-e785-43a9-b683-7f7be4ba244d');\n",
       "        const dataTable =\n",
       "          await google.colab.kernel.invokeFunction('convertToInteractive',\n",
       "                                                    [key], {});\n",
       "        if (!dataTable) return;\n",
       "\n",
       "        const docLinkHtml = 'Like what you see? Visit the ' +\n",
       "          '<a target=\"_blank\" href=https://colab.research.google.com/notebooks/data_table.ipynb>data table notebook</a>'\n",
       "          + ' to learn more about interactive tables.';\n",
       "        element.innerHTML = '';\n",
       "        dataTable['output_type'] = 'display_data';\n",
       "        await google.colab.output.renderOutput(dataTable, element);\n",
       "        const docLink = document.createElement('div');\n",
       "        docLink.innerHTML = docLinkHtml;\n",
       "        element.appendChild(docLink);\n",
       "      }\n",
       "    </script>\n",
       "  </div>\n",
       "\n",
       "\n",
       "<div id=\"df-3e283d0f-3f68-47ee-a5e4-20a926b9f171\">\n",
       "  <button class=\"colab-df-quickchart\" onclick=\"quickchart('df-3e283d0f-3f68-47ee-a5e4-20a926b9f171')\"\n",
       "            title=\"Suggest charts\"\n",
       "            style=\"display:none;\">\n",
       "\n",
       "<svg xmlns=\"http://www.w3.org/2000/svg\" height=\"24px\"viewBox=\"0 0 24 24\"\n",
       "     width=\"24px\">\n",
       "    <g>\n",
       "        <path d=\"M19 3H5c-1.1 0-2 .9-2 2v14c0 1.1.9 2 2 2h14c1.1 0 2-.9 2-2V5c0-1.1-.9-2-2-2zM9 17H7v-7h2v7zm4 0h-2V7h2v10zm4 0h-2v-4h2v4z\"/>\n",
       "    </g>\n",
       "</svg>\n",
       "  </button>\n",
       "\n",
       "<style>\n",
       "  .colab-df-quickchart {\n",
       "      --bg-color: #E8F0FE;\n",
       "      --fill-color: #1967D2;\n",
       "      --hover-bg-color: #E2EBFA;\n",
       "      --hover-fill-color: #174EA6;\n",
       "      --disabled-fill-color: #AAA;\n",
       "      --disabled-bg-color: #DDD;\n",
       "  }\n",
       "\n",
       "  [theme=dark] .colab-df-quickchart {\n",
       "      --bg-color: #3B4455;\n",
       "      --fill-color: #D2E3FC;\n",
       "      --hover-bg-color: #434B5C;\n",
       "      --hover-fill-color: #FFFFFF;\n",
       "      --disabled-bg-color: #3B4455;\n",
       "      --disabled-fill-color: #666;\n",
       "  }\n",
       "\n",
       "  .colab-df-quickchart {\n",
       "    background-color: var(--bg-color);\n",
       "    border: none;\n",
       "    border-radius: 50%;\n",
       "    cursor: pointer;\n",
       "    display: none;\n",
       "    fill: var(--fill-color);\n",
       "    height: 32px;\n",
       "    padding: 0;\n",
       "    width: 32px;\n",
       "  }\n",
       "\n",
       "  .colab-df-quickchart:hover {\n",
       "    background-color: var(--hover-bg-color);\n",
       "    box-shadow: 0 1px 2px rgba(60, 64, 67, 0.3), 0 1px 3px 1px rgba(60, 64, 67, 0.15);\n",
       "    fill: var(--button-hover-fill-color);\n",
       "  }\n",
       "\n",
       "  .colab-df-quickchart-complete:disabled,\n",
       "  .colab-df-quickchart-complete:disabled:hover {\n",
       "    background-color: var(--disabled-bg-color);\n",
       "    fill: var(--disabled-fill-color);\n",
       "    box-shadow: none;\n",
       "  }\n",
       "\n",
       "  .colab-df-spinner {\n",
       "    border: 2px solid var(--fill-color);\n",
       "    border-color: transparent;\n",
       "    border-bottom-color: var(--fill-color);\n",
       "    animation:\n",
       "      spin 1s steps(1) infinite;\n",
       "  }\n",
       "\n",
       "  @keyframes spin {\n",
       "    0% {\n",
       "      border-color: transparent;\n",
       "      border-bottom-color: var(--fill-color);\n",
       "      border-left-color: var(--fill-color);\n",
       "    }\n",
       "    20% {\n",
       "      border-color: transparent;\n",
       "      border-left-color: var(--fill-color);\n",
       "      border-top-color: var(--fill-color);\n",
       "    }\n",
       "    30% {\n",
       "      border-color: transparent;\n",
       "      border-left-color: var(--fill-color);\n",
       "      border-top-color: var(--fill-color);\n",
       "      border-right-color: var(--fill-color);\n",
       "    }\n",
       "    40% {\n",
       "      border-color: transparent;\n",
       "      border-right-color: var(--fill-color);\n",
       "      border-top-color: var(--fill-color);\n",
       "    }\n",
       "    60% {\n",
       "      border-color: transparent;\n",
       "      border-right-color: var(--fill-color);\n",
       "    }\n",
       "    80% {\n",
       "      border-color: transparent;\n",
       "      border-right-color: var(--fill-color);\n",
       "      border-bottom-color: var(--fill-color);\n",
       "    }\n",
       "    90% {\n",
       "      border-color: transparent;\n",
       "      border-bottom-color: var(--fill-color);\n",
       "    }\n",
       "  }\n",
       "</style>\n",
       "\n",
       "  <script>\n",
       "    async function quickchart(key) {\n",
       "      const quickchartButtonEl =\n",
       "        document.querySelector('#' + key + ' button');\n",
       "      quickchartButtonEl.disabled = true;  // To prevent multiple clicks.\n",
       "      quickchartButtonEl.classList.add('colab-df-spinner');\n",
       "      try {\n",
       "        const charts = await google.colab.kernel.invokeFunction(\n",
       "            'suggestCharts', [key], {});\n",
       "      } catch (error) {\n",
       "        console.error('Error during call to suggestCharts:', error);\n",
       "      }\n",
       "      quickchartButtonEl.classList.remove('colab-df-spinner');\n",
       "      quickchartButtonEl.classList.add('colab-df-quickchart-complete');\n",
       "    }\n",
       "    (() => {\n",
       "      let quickchartButtonEl =\n",
       "        document.querySelector('#df-3e283d0f-3f68-47ee-a5e4-20a926b9f171 button');\n",
       "      quickchartButtonEl.style.display =\n",
       "        google.colab.kernel.accessAllowed ? 'block' : 'none';\n",
       "    })();\n",
       "  </script>\n",
       "</div>\n",
       "\n",
       "  <div id=\"id_e4f665ea-c79d-4086-87f6-f47bf2de8f92\">\n",
       "    <style>\n",
       "      .colab-df-generate {\n",
       "        background-color: #E8F0FE;\n",
       "        border: none;\n",
       "        border-radius: 50%;\n",
       "        cursor: pointer;\n",
       "        display: none;\n",
       "        fill: #1967D2;\n",
       "        height: 32px;\n",
       "        padding: 0 0 0 0;\n",
       "        width: 32px;\n",
       "      }\n",
       "\n",
       "      .colab-df-generate:hover {\n",
       "        background-color: #E2EBFA;\n",
       "        box-shadow: 0px 1px 2px rgba(60, 64, 67, 0.3), 0px 1px 3px 1px rgba(60, 64, 67, 0.15);\n",
       "        fill: #174EA6;\n",
       "      }\n",
       "\n",
       "      [theme=dark] .colab-df-generate {\n",
       "        background-color: #3B4455;\n",
       "        fill: #D2E3FC;\n",
       "      }\n",
       "\n",
       "      [theme=dark] .colab-df-generate:hover {\n",
       "        background-color: #434B5C;\n",
       "        box-shadow: 0px 1px 3px 1px rgba(0, 0, 0, 0.15);\n",
       "        filter: drop-shadow(0px 1px 2px rgba(0, 0, 0, 0.3));\n",
       "        fill: #FFFFFF;\n",
       "      }\n",
       "    </style>\n",
       "    <button class=\"colab-df-generate\" onclick=\"generateWithVariable('statistical_data')\"\n",
       "            title=\"Generate code using this dataframe.\"\n",
       "            style=\"display:none;\">\n",
       "\n",
       "  <svg xmlns=\"http://www.w3.org/2000/svg\" height=\"24px\"viewBox=\"0 0 24 24\"\n",
       "       width=\"24px\">\n",
       "    <path d=\"M7,19H8.4L18.45,9,17,7.55,7,17.6ZM5,21V16.75L18.45,3.32a2,2,0,0,1,2.83,0l1.4,1.43a1.91,1.91,0,0,1,.58,1.4,1.91,1.91,0,0,1-.58,1.4L9.25,21ZM18.45,9,17,7.55Zm-12,3A5.31,5.31,0,0,0,4.9,8.1,5.31,5.31,0,0,0,1,6.5,5.31,5.31,0,0,0,4.9,4.9,5.31,5.31,0,0,0,6.5,1,5.31,5.31,0,0,0,8.1,4.9,5.31,5.31,0,0,0,12,6.5,5.46,5.46,0,0,0,6.5,12Z\"/>\n",
       "  </svg>\n",
       "    </button>\n",
       "    <script>\n",
       "      (() => {\n",
       "      const buttonEl =\n",
       "        document.querySelector('#id_e4f665ea-c79d-4086-87f6-f47bf2de8f92 button.colab-df-generate');\n",
       "      buttonEl.style.display =\n",
       "        google.colab.kernel.accessAllowed ? 'block' : 'none';\n",
       "\n",
       "      buttonEl.onclick = () => {\n",
       "        google.colab.notebook.generateWithVariable('statistical_data');\n",
       "      }\n",
       "      })();\n",
       "    </script>\n",
       "  </div>\n",
       "\n",
       "    </div>\n",
       "  </div>\n"
      ],
      "application/vnd.google.colaboratory.intrinsic+json": {
       "type": "dataframe",
       "variable_name": "statistical_data",
       "summary": "{\n  \"name\": \"statistical_data\",\n  \"rows\": 7,\n  \"fields\": [\n    {\n      \"column\": \"Curricular units 1st sem (grade)\",\n      \"properties\": {\n        \"dtype\": \"number\",\n        \"std\": 6.282082987884405,\n        \"min\": 0.0,\n        \"max\": 18.88,\n        \"num_unique_values\": 7,\n        \"samples\": [\n          11.48,\n          4.22,\n          13.69\n        ],\n        \"semantic_type\": \"\",\n        \"description\": \"\"\n      }\n    },\n    {\n      \"column\": \"GDP\",\n      \"properties\": {\n        \"dtype\": \"number\",\n        \"std\": 2.5718457333577525,\n        \"min\": -4.06,\n        \"max\": 3.51,\n        \"num_unique_values\": 7,\n        \"samples\": [\n          0.26,\n          2.3,\n          1.79\n        ],\n        \"semantic_type\": \"\",\n        \"description\": \"\"\n      }\n    },\n    {\n      \"column\": \"Curricular units 2nd sem (grade)\",\n      \"properties\": {\n        \"dtype\": \"number\",\n        \"std\": 5.885636268553664,\n        \"min\": 0.0,\n        \"max\": 17.69,\n        \"num_unique_values\": 7,\n        \"samples\": [\n          10.98,\n          4.61,\n          13.33\n        ],\n        \"semantic_type\": \"\",\n        \"description\": \"\"\n      }\n    }\n  ]\n}"
      }
     },
     "metadata": {},
     "execution_count": 29
    }
   ]
  },
  {
   "cell_type": "markdown",
   "source": [
    "3)\n",
    "a."
   ],
   "metadata": {
    "id": "Vffn_9OK15pe"
   }
  },
  {
   "cell_type": "code",
   "source": [
    "sns.set(style=\"whitegrid\")\n",
    "fig, axes = plt.subplots(nrows=3, ncols=2, figsize=(15, 30))\n",
    "plt.subplots_adjust(hspace=0.5)\n",
    "\n",
    "for i, column in enumerate(continuous_variables):\n",
    "    # Boxplot\n",
    "    axes[i, 0].boxplot(sampled_data[column], showmeans = True)\n",
    "    axes[i, 0].set_title(f\"{column} Boxplot\")\n",
    "    axes[i, 0].set_ylabel(\"Values\")\n",
    "\n",
    "    # Histogram\n",
    "    axes[i, 1].hist(sampled_data[column],color='skyblue',ec=\"black\", bins=10)\n",
    "    axes[i, 1].set_title(f\"{column} Histogram\")\n",
    "    axes[i, 1].set_xlabel(\"Values\")\n",
    "    axes[i, 1].set_ylabel(\"Frequency\")\n",
    "\n",
    "plt.tight_layout()\n",
    "plt.show()"
   ],
   "metadata": {
    "colab": {
     "base_uri": "https://localhost:8080/",
     "height": 1000
    },
    "id": "HY3fY1FwtOM8",
    "outputId": "2b98dfef-4e18-4d3a-a737-45db8d00da2a"
   },
   "execution_count": null,
   "outputs": [
    {
     "output_type": "display_data",
     "data": {
      "text/plain": [
       "<Figure size 1500x3000 with 6 Axes>"
      ],
      "image/png": "[encoded data removed]"
     },
     "metadata": {}
    }
   ]
  },
  {
   "cell_type": "markdown",
   "source": [
    "explanation of the histograms and boxplots:\n",
    "\n",
    "We are representing each continuous variable histogram and boxplot to better understand the distribution of the data,as we see in each boxplot there is outliers so we also chose to represent the data in a histogram to get a better visualization of the data."
   ],
   "metadata": {
    "id": "Wqf39wj0tc_P"
   }
  },
  {
   "cell_type": "markdown",
   "source": [
    "we will represent the Age at enrollment column data in a barplot:"
   ],
   "metadata": {
    "id": "2qVeWsgRvLxI"
   }
  },
  {
   "cell_type": "code",
   "source": [
    "# Categorical variable for which we want to create visualizations\n",
    "categorical_variable = ['Debtor']\n",
    "\n",
    "# Count the frequency of each category\n",
    "category_counts = sampled_data[categorical_variable[0]].value_counts()\n",
    "\n",
    "\n",
    "# Create a bar plot\n",
    "category_counts.plot(kind='bar', color='skyblue' ,ec=\"black\")\n",
    "plt.title(f\"Bar Plot of {categorical_variable[0]}\")\n",
    "plt.xlabel(categorical_variable[0])\n",
    "plt.ylabel(\"Count\")\n",
    "\n",
    "plt.tight_layout()  # Adjust layout for better spacing\n",
    "plt.show()"
   ],
   "metadata": {
    "colab": {
     "base_uri": "https://localhost:8080/",
     "height": 480
    },
    "id": "kcwcoSkOtdkB",
    "outputId": "e19c1211-ea2e-4067-c94a-995dc58491c2"
   },
   "execution_count": null,
   "outputs": [
    {
     "output_type": "display_data",
     "data": {
      "text/plain": [
       "<Figure size 640x480 with 1 Axes>"
      ],
      "image/png": "[encoded data removed]"
     },
     "metadata": {}
    }
   ]
  },
  {
   "cell_type": "markdown",
   "source": [
    "explanation of the barplot:\n",
    "\n",
    "as we see in the barplot most of the records in the sampled data are not Debtors"
   ],
   "metadata": {
    "id": "5KClj7YrvSnD"
   }
  },
  {
   "cell_type": "markdown",
   "source": [
    "b."
   ],
   "metadata": {
    "id": "bUQ5n-bY1-PI"
   }
  },
  {
   "cell_type": "markdown",
   "source": [
    "**Missing values:**"
   ],
   "metadata": {
    "id": "9ggMH9ApvZYM"
   }
  },
  {
   "cell_type": "markdown",
   "source": [
    "in our data we don't have any missing values as we can see in the data table (there is no None, Null or blank, and there is no 0 age of enrolment), and as we can see from the data source that it was cleaned."
   ],
   "metadata": {
    "id": "7i8Hlcxuvktm"
   }
  },
  {
   "cell_type": "markdown",
   "source": [
    "**checking for outliers:**\n",
    "\n",
    "as we see in the boxplots there are outliers in the three continuous variables we chose to work with ,we want to check the percentage of the outliers from the whole sampled data:"
   ],
   "metadata": {
    "id": "akPDg1HHvzGN"
   }
  },
  {
   "cell_type": "code",
   "source": [
    "num_records = len(sampled_data)\n",
    "for column in continuous_variables:\n",
    "    q1 = statistical_data[column][\"25%\"]\n",
    "    q3 = statistical_data[column][\"75%\"]\n",
    "    iqr = q3 - q1\n",
    "    upper_bound = q3 + (1.5 * iqr)\n",
    "    lower_bound = q1 - (1.5 * iqr)\n",
    "    col = sampled_data[column]\n",
    "    lower_outliers = col[(col <= lower_bound)]\n",
    "    upper_outliers = col[(col >= upper_bound)]\n",
    "    print(f'Number of low outliers for the variable {column} is {len(lower_outliers)} which are roughly {len(lower_outliers) :.2f}% of the total records')\n",
    "    print(f'Number of high outliers for the variable {column} is {len(upper_outliers)} which are roughly {len(upper_outliers) :.2f}% of the total records')\n",
    "    print(\"***\")"
   ],
   "metadata": {
    "colab": {
     "base_uri": "https://localhost:8080/"
    },
    "id": "jAnQtjCyvYow",
    "outputId": "a999bd64-37a5-4295-8086-5b825c47a6ec"
   },
   "execution_count": null,
   "outputs": [
    {
     "output_type": "stream",
     "name": "stdout",
     "text": [
      "Number of low outliers for the variable Curricular units 1st sem (grade) is 22 which are roughly 22.00% of the total records\n",
      "Number of high outliers for the variable Curricular units 1st sem (grade) is 1 which are roughly 1.00% of the total records\n",
      "***\n",
      "Number of low outliers for the variable GDP is 0 which are roughly 0.00% of the total records\n",
      "Number of high outliers for the variable GDP is 0 which are roughly 0.00% of the total records\n",
      "***\n",
      "Number of low outliers for the variable Curricular units 2nd sem (grade) is 28 which are roughly 28.00% of the total records\n",
      "Number of high outliers for the variable Curricular units 2nd sem (grade) is 1 which are roughly 1.00% of the total records\n",
      "***\n"
     ]
    }
   ]
  },
  {
   "cell_type": "markdown",
   "source": [
    "as we see the percentage of outliers in all three continuous variables are very low compareed to the size of the sample data, excpet for the values that is considered as high values for the variable Curricular units 2nd sem (grade) feature.\n",
    "\n",
    "\n",
    "\n"
   ],
   "metadata": {
    "id": "PlzOU24owSdO"
   }
  },
  {
   "cell_type": "markdown",
   "source": [
    "**symmetry and distribution of the variables we work with based on the histograms and the barplot above:**"
   ],
   "metadata": {
    "id": "50n-Jne7w2x7"
   }
  },
  {
   "cell_type": "markdown",
   "source": [
    "Curricular units 1st sem (grade):\n",
    "\n",
    "1.as we can see it is not symmetric\n",
    "\n",
    "2.based on the general shape of the histogram we think that the distribution is normal distribution with mue and sigma (mean and variance).\n",
    "\n",
    "GDP:\n",
    "\n",
    "1.as we can see it is not symmetric\n",
    "\n",
    "2.based on the general shape of the histogram we think that the distribution is gamma\n",
    "\n",
    "Curricular units 2nd sem (grade):\n",
    "\n",
    "1.clearly it is not symmetric\n",
    "\n",
    "2.the distribution might be gamma with large values of 𝛂 and β .(since we see that most of the values in the right side of the histogram).\n",
    "\n",
    "Debtor :\n",
    "\n",
    "we note that this is a binary discrete variable,so it is distributed Ber(p), this distribution is symmetrical iff p=0.5.we do not know p but we can estimate it to be the proportion of people with 1 in the column from the total samples, from the barplot above we can see clearly that p not equal to 0.5, thus it is not symmetrical"
   ],
   "metadata": {
    "id": "EN03bhhVxBBX"
   }
  },
  {
   "cell_type": "markdown",
   "source": [
    "c."
   ],
   "metadata": {
    "id": "TtXzJ7DS1ycc"
   }
  },
  {
   "cell_type": "code",
   "source": [
    "plt1=sns.lineplot(data=sampled_data,x='Curricular units 1st sem (grade)',y='Curricular units 2nd sem (grade)')\n",
    "plt.title('the Curricular units 2nd sem (grade) as a function of the Curricular units 1st sem (grade)')"
   ],
   "metadata": {
    "colab": {
     "base_uri": "https://localhost:8080/",
     "height": 498
    },
    "id": "zFMEAO9Hwo8A",
    "outputId": "6dd4eb12-114c-43fc-e6a9-7c78e4423323"
   },
   "execution_count": null,
   "outputs": [
    {
     "output_type": "execute_result",
     "data": {
      "text/plain": [
       "Text(0.5, 1.0, 'the Curricular units 2nd sem (grade) as a function of the Curricular units 1st sem (grade)')"
      ]
     },
     "metadata": {},
     "execution_count": 31
    },
    {
     "output_type": "display_data",
     "data": {
      "text/plain": [
       "<Figure size 640x480 with 1 Axes>"
      ],
      "image/png": "[encoded data removed]"
     },
     "metadata": {}
    }
   ]
  },
  {
   "cell_type": "code",
   "source": [
    "plt2=sns.lineplot(data=sampled_data,x='GDP',y='Curricular units 2nd sem (grade)')\n",
    "plt.title('the Curricular units 2nd sem (grade) as a function of the GDP')"
   ],
   "metadata": {
    "colab": {
     "base_uri": "https://localhost:8080/",
     "height": 498
    },
    "id": "nHlvo7z22WHh",
    "outputId": "ac62a0d3-9a38-4194-eefc-9b05f5634ea7"
   },
   "execution_count": null,
   "outputs": [
    {
     "output_type": "execute_result",
     "data": {
      "text/plain": [
       "Text(0.5, 1.0, 'the Curricular units 2nd sem (grade) as a function of the GDP')"
      ]
     },
     "metadata": {},
     "execution_count": 32
    },
    {
     "output_type": "display_data",
     "data": {
      "text/plain": [
       "<Figure size 640x480 with 1 Axes>"
      ],
      "image/png": "[encoded data removed]"
     },
     "metadata": {}
    }
   ]
  },
  {
   "cell_type": "markdown",
   "source": [
    "Explanation:\n",
    "\n",
    "since we expect linear relation between the explanatory variables and the explained variable thus we wanted to represent it in a linear graph.\n",
    "\n",
    "We used sns library for this graph for better visualization of the graph. The shaded blue describes the location of points in the data, the line gives a approximated mean of the value of y given x to give a cleaner representation of the graph.\n",
    "\n",
    "the first graph which describes the Curricular units 2nd sem (grade) as a function of the Curricular units 1st sem (grade) we see that the line is not monotinicso it do not clearly display a strong relation between X and Y.\n",
    "\n",
    "the second graph which describes the Curricular units 2nd sem (grade) as a function of GDP ,it is not monotinic it do not clearly display a strong relation between X and Y.\n",
    "\n",
    "So we can't actually, define which variable has the bigger influence on the variable BMI, but we know according to the definition of the BMI, that the Height take a part of it, so we assume that it will take a bigger influence on the BMI."
   ],
   "metadata": {
    "id": "2IBHOH9G2rnR"
   }
  },
  {
   "cell_type": "markdown",
   "source": [
    "d."
   ],
   "metadata": {
    "id": "R8aHjwCR29O_"
   }
  },
  {
   "cell_type": "markdown",
   "source": [
    "we will display the Curricular units 2nd sem (grade) as a function of Debtor:"
   ],
   "metadata": {
    "id": "8sxmrnLC3C9k"
   }
  },
  {
   "cell_type": "code",
   "source": [
    "def check(value):\n",
    "  if value==1:\n",
    "    return 'Debtor'\n",
    "  else:\n",
    "    return 'Not Debtor'\n",
    "\n",
    "plt.figure(figsize=(15, 12))\n",
    "plt.subplots_adjust(hspace=0.2)\n",
    "plt.suptitle(\"Sample histogram for the dependent variable as a function of discrete explanatory variable values\", fontsize=18, y=0.95)\n",
    "\n",
    "categ = sampled_data['Debtor'].unique()\n",
    "nc = math.ceil(len(categ)/2)\n",
    "nrows=nc\n",
    "ncols=2\n",
    "\n",
    "\n",
    "for n, c in enumerate(categ):\n",
    "  data = sampled_data[sampled_data['Debtor']==c]['Curricular units 2nd sem (grade)']\n",
    "  ax = plt.subplot(nrows, ncols, n + 1)\n",
    "  data.hist(ax=ax, bins=10, ec=\"black\", color=\"lightblue\")\n",
    "  ax.set(ylabel=\"counts\", xlabel='Curricular units 2nd sem (grade)',title=check(c))\n",
    "plt.show()"
   ],
   "metadata": {
    "colab": {
     "base_uri": "https://localhost:8080/",
     "height": 1000
    },
    "id": "K44fifYB3CZg",
    "outputId": "fa49e9c9-8bad-437c-ecf2-cf3be39f7711"
   },
   "execution_count": null,
   "outputs": [
    {
     "output_type": "display_data",
     "data": {
      "text/plain": [
       "<Figure size 1500x1200 with 2 Axes>"
      ],
      "image/png": "[encoded data removed]"
     },
     "metadata": {}
    }
   ]
  },
  {
   "cell_type": "markdown",
   "source": [
    "explanation of the graphs:\n",
    "\n",
    "we displayed the Curricular units 2nd sem (grade) of the debtor people and not debtor in two different histograms to clearly see the distibution of the Curricular units 2nd sem (grade) values."
   ],
   "metadata": {
    "id": "xuAfqZ-m3kqU"
   }
  },
  {
   "cell_type": "markdown",
   "source": [
    "4)"
   ],
   "metadata": {
    "id": "sXhmbXPe3sPg"
   }
  },
  {
   "cell_type": "code",
   "source": [
    "reg=LinearRegression(fit_intercept=True).fit(covariates_np, Y)\n",
    "beta=[reg.intercept_,*reg.coef_]\n",
    "## where the first element in beta is the intercept\n",
    "print('beta estimator is:')\n",
    "print(beta)\n",
    "print('the intercept is:')\n",
    "print(reg.intercept_)\n",
    "print('the Coefficients are:')\n",
    "print(*reg.coef_)\n"
   ],
   "metadata": {
    "colab": {
     "base_uri": "https://localhost:8080/"
    },
    "id": "VhgaCug33r6j",
    "outputId": "6d2a97b8-3789-4050-deb8-b60ea6b47314"
   },
   "execution_count": null,
   "outputs": [
    {
     "output_type": "stream",
     "name": "stdout",
     "text": [
      "beta estimator is:\n",
      "[0.8857923440696975, -1.5433801118815265, 0.8937776565145306, 0.10663307981827808]\n",
      "the intercept is:\n",
      "0.8857923440696975\n",
      "the Coefficients are:\n",
      "-1.5433801118815265 0.8937776565145306 0.10663307981827808\n"
     ]
    }
   ]
  },
  {
   "cell_type": "markdown",
   "source": [
    "Debtor: -1.5433801118815265\n",
    "\n",
    "A negative coefficient indicates that being a debtor (when the Debtor variable is 1) decreases the predicted value of the dependent variable by approximately 1.54 units compared to not being a debtor (when Debtor is 0), holding all other variables constant.\n",
    "\n",
    "\n",
    "Curricular units 1st sem (grade): 0.8937776565145306\n",
    "\n",
    "A positive coefficient means that for each unit increase in the \"Curricular units 1st sem (grade)\" variable, the predicted value of the dependent variable increases by approximately 0.89 units, holding all other variables constant.\n",
    "\n",
    "\n",
    "GDP: 0.10663307981827808\n",
    "\n",
    "A positive coefficient here suggests that for each unit increase in GDP, the predicted value of the dependent variable increases by approximately 0.11 units, holding all other variables constant."
   ],
   "metadata": {
    "id": "2hHCv6VX4Byc"
   }
  },
  {
   "cell_type": "markdown",
   "source": [
    "5)"
   ],
   "metadata": {
    "id": "QOlcMaAG6S0L"
   }
  },
  {
   "cell_type": "markdown",
   "source": [
    "F Test: (as we saw in the lecture)\n",
    "$$H_0: β^*_1=β^*_2=β^*_3= 0$$\n",
    "\n",
    "$$H_1: ∃β^*_j ≠ 0, j∈ 1,2,3$$\n",
    "\n",
    "$$T.S: F = \\frac{MS_R}{MS_Res}$$\n",
    "\n",
    "$$R.R: F > F_{(3, 196), 0.95}$$"
   ],
   "metadata": {
    "id": "Lw6QHLul6Twi"
   }
  },
  {
   "cell_type": "code",
   "source": [
    "pd.set_option(\"expand_frame_repr\", True)\n",
    "mean_y = sum(Y) / len(Y)\n",
    "source = [\"SSR\", \"SSE\", \"SST\"]\n",
    "\n",
    "SSR = sum([(reg.predict([x])[0] - mean_y)**2 for x in covariates_np])\n",
    "SSE = sum([(reg.predict([covariates_np[i]])[0] - Y.iloc[i])**2 for i in range(len(covariates_np))])\n",
    "SST = sum([(true_label - mean_y)**2 for true_label in Y])\n",
    "SS = [SSR, SSE, SST]\n",
    "\n",
    "degrees_freedom = [covariates_np.shape[1], covariates_np.shape[0] - (covariates_np.shape[1] + 1), covariates_np.shape[0] - 1]\n",
    "\n",
    "MS = [SSR / degrees_freedom[0], SSE / degrees_freedom[1], SST / degrees_freedom[2]]\n",
    "\n",
    "alpha = 0.05\n",
    "F = MS[0] / MS[1]\n",
    "Pval = 1 - stats.f.cdf(F, degrees_freedom[0], degrees_freedom[1])\n",
    "\n",
    "print(\"ANOVA Table\")\n",
    "table = [[\"Source\", \"Sum of Squares\", \"df\", \"MS\", \"F\"],\n",
    "         ['Regression', SSR, degrees_freedom[0] , MS[0], f\"F = {F:.04}, p-val = {Pval:.04}\"],\n",
    "         ['Residuals', SSE ,  degrees_freedom[1], MS[1], \"\"],\n",
    "         ['Total', SST,  degrees_freedom[2], MS[2], \"\"]]\n",
    "print(tabulate(table, headers='firstrow', tablefmt='grid'))"
   ],
   "metadata": {
    "colab": {
     "base_uri": "https://localhost:8080/"
    },
    "id": "e12bFC124-w3",
    "outputId": "cb42d7fb-6cd5-4607-947e-286cee1a293f"
   },
   "execution_count": null,
   "outputs": [
    {
     "output_type": "stream",
     "name": "stdout",
     "text": [
      "ANOVA Table\n",
      "+------------+------------------+------+-----------+-----------------------------+\n",
      "| Source     |   Sum of Squares |   df |        MS | F                           |\n",
      "+============+==================+======+===========+=============================+\n",
      "| Regression |          2907.96 |    3 | 969.319   | F = 144.5, p-val = 1.11e-16 |\n",
      "+------------+------------------+------+-----------+-----------------------------+\n",
      "| Residuals  |          1314.59 |  196 |   6.70711 |                             |\n",
      "+------------+------------------+------+-----------+-----------------------------+\n",
      "| Total      |          4222.55 |  199 |  21.2188  |                             |\n",
      "+------------+------------------+------+-----------+-----------------------------+\n"
     ]
    }
   ]
  },
  {
   "cell_type": "markdown",
   "source": [
    "The p-value here is extremely small , which is much smaller than the typical significance level of 0.05.\n",
    "Therefore, we reject the Null hypothesis that there is no linear relation between the Curricular units 2nd sem (grade) and the explanatory variables.\n",
    "​\n",
    " ."
   ],
   "metadata": {
    "id": "WAdaOCA96wEv"
   }
  },
  {
   "cell_type": "code",
   "source": [
    "R_squared = SSR / SST\n",
    "R_squared_adj = 1 - (degrees_freedom[2] / degrees_freedom[1]) * (1 - R_squared)\n",
    "\n",
    "print(\"R_squared =\", R_squared)\n",
    "print(\"R_squared_adj =\", R_squared_adj)"
   ],
   "metadata": {
    "colab": {
     "base_uri": "https://localhost:8080/"
    },
    "id": "LI0gnyOr6wy8",
    "outputId": "762745b3-4e0c-4dd1-c212-84c374813be5"
   },
   "execution_count": null,
   "outputs": [
    {
     "output_type": "stream",
     "name": "stdout",
     "text": [
      "R_squared = 0.6886730520524094\n",
      "R_squared_adj = 0.6839078436654564\n"
     ]
    }
   ]
  },
  {
   "cell_type": "markdown",
   "source": [
    "6)"
   ],
   "metadata": {
    "id": "l_Jy9GVS7JIG"
   }
  },
  {
   "cell_type": "code",
   "source": [
    "# Calculate the CI for each feature.\n",
    "sigma_epsilon_squared = MS[1]\n",
    "covariates_w_1 = np.insert(covariates_np, 0, np.ones(covariates_np.shape[0]), axis=1)\n",
    "C = np.linalg.inv(covariates_w_1.T @ covariates_w_1)\n",
    "alpha=0.05\n",
    "quantile = norm.ppf(1 - alpha / 2)\n",
    "\n",
    "confidence_intervals = [[beta - quantile * (sigma_epsilon_squared * C[i][i]) ** 0.5,\n",
    "                         beta +quantile * (sigma_epsilon_squared * C[i][i]) ** 0.5]\n",
    "                        for i, beta in enumerate([reg.intercept_] + list(reg.coef_))]\n",
    "\n",
    "print(\"The CI for beta over the sampled data:\")\n",
    "for i, feature in enumerate([\"Intercept\", 'Debtor','Curricular units 1st sem (grade)','GDP']):\n",
    "    print(f\"The beta_{feature} CI is\", confidence_intervals[i])"
   ],
   "metadata": {
    "colab": {
     "base_uri": "https://localhost:8080/"
    },
    "id": "D-UhD-o_7NNc",
    "outputId": "858ac45c-9ff7-4cee-a676-3d0cbc5438b8"
   },
   "execution_count": null,
   "outputs": [
    {
     "output_type": "stream",
     "name": "stdout",
     "text": [
      "The CI for beta over the sampled data:\n",
      "The beta_Intercept CI is [-0.16488795178278992, 1.936472639922185]\n",
      "The beta_Debtor CI is [-2.6339802362485973, -0.4527799875144556]\n",
      "The beta_Curricular units 1st sem (grade) CI is [0.808342930321948, 0.9792123827071131]\n",
      "The beta_GDP CI is [-0.05088356476655534, 0.26414972440311146]\n"
     ]
    }
   ]
  },
  {
   "cell_type": "markdown",
   "source": [
    "checking if the coeffecients estimators of the entire data are in their CI(based on 200 samples):"
   ],
   "metadata": {
    "id": "Jxj8WWB37f5O"
   }
  },
  {
   "cell_type": "code",
   "source": [
    "X_all = np.array(df[['Debtor','Curricular units 1st sem (grade)','GDP']])\n",
    "y_all = df[\"Curricular units 2nd sem (grade)\"]\n",
    "reg_all = LinearRegression(fit_intercept=True).fit(X_all, y_all)\n",
    "print('the estimators on the entire data are:')\n",
    "print(\"Intercept:\", reg_all.intercept_)\n",
    "print(\"Coefficents:\", *reg_all.coef_)\n",
    "\n",
    "print(\"----------------------------\")\n",
    "##in_CI is a boolean list with True if the estimator is in his CI interval\n",
    "in_CI = []\n",
    "for i, beta in enumerate([reg_all.intercept_] + list(reg_all.coef_)):\n",
    "  if  confidence_intervals[i][0] <= beta <= confidence_intervals[i][1]:\n",
    "    in_CI.append(True)\n",
    "  else:\n",
    "    in_CI.append(False)\n",
    "\n",
    "for i, feature in enumerate([\"Intercept\", 'Debtor','Curricular units 1st sem (grade)','GDP']):\n",
    "  if in_CI[i]:\n",
    "    print(f\"The beta_{feature} for all the data is in the confidence interval for beta we estimated \")\n",
    "    print('for the sampled data')\n",
    "  else:\n",
    "    print(f\"The beta_{feature} for all the data is not in the confidence interval for beta \")\n",
    "    print('we estimated for the sampled data')"
   ],
   "metadata": {
    "colab": {
     "base_uri": "https://localhost:8080/"
    },
    "id": "wDsoH08e7kXj",
    "outputId": "0791efc2-c6ad-46ba-e94b-23a674fb74de"
   },
   "execution_count": null,
   "outputs": [
    {
     "output_type": "stream",
     "name": "stdout",
     "text": [
      "the estimators on the entire data are:\n",
      "Intercept: 0.8343867719426683\n",
      "Coefficents: -0.9065456557458359 0.8926713031834382 0.06873511502017698\n",
      "----------------------------\n",
      "The beta_Intercept for all the data is in the confidence interval for beta we estimated \n",
      "for the sampled data\n",
      "The beta_Debtor for all the data is in the confidence interval for beta we estimated \n",
      "for the sampled data\n",
      "The beta_Curricular units 1st sem (grade) for all the data is in the confidence interval for beta we estimated \n",
      "for the sampled data\n",
      "The beta_GDP for all the data is in the confidence interval for beta we estimated \n",
      "for the sampled data\n"
     ]
    }
   ]
  },
  {
   "cell_type": "markdown",
   "source": [
    "We got that the all the estimated parameters for the whole data are in the relevant CIs, so we conclude that the sample we have did approximated the behaviour of the data well enough, although it was a small sample of the data."
   ],
   "metadata": {
    "id": "_u9S7ytX7-2n"
   }
  },
  {
   "cell_type": "markdown",
   "source": [
    "7)"
   ],
   "metadata": {
    "id": "UnSbrqR-8AHZ"
   }
  },
  {
   "cell_type": "markdown",
   "source": [
    "$$H_0: β_j = 0$$\n",
    "$$H_1: β_j \\not= 0$$\n",
    "$$T.S: W = \\frac{\\hat{β_j}}{\\hat{s.e(\\hat{β_j})}}$$\n",
    "$$R.R: |W| > Z_{α/2}$$\n",
    "\n",
    "Where: $$\\hat{s.e(\\hat{β_j})} = (\\hat{σ_j}^2 * (X^TX)^{-1}_{jj})^{1/2}$$\n",
    "\n",
    "We do this test for each one of the beta estimators we have $$β^*_0, β^*_1, β^*_2, β^*_3$$"
   ],
   "metadata": {
    "id": "m8yoRX1C8G2a"
   }
  },
  {
   "cell_type": "code",
   "source": [
    "reject=[]\n",
    "alpha=0.05\n",
    "z_quantile = norm.ppf(1 - alpha / 2)\n",
    "for i, beta in enumerate([reg.intercept_] + list(reg.coef_)):\n",
    "  test_statistic_beta=beta/ (sigma_epsilon_squared * C[i][i]) ** 0.5\n",
    "  reject.append(abs(test_statistic_beta)>z_quantile)\n",
    "for i, feature in enumerate([\"Intercept\", 'Debtor','Curricular units 1st sem (grade)','GDP']):\n",
    "    if reject[i]:\n",
    "      print(f'for beta_{feature} reject H0')\n",
    "    else:\n",
    "      print(f'for beta_{feature} do not reject H0')"
   ],
   "metadata": {
    "colab": {
     "base_uri": "https://localhost:8080/"
    },
    "id": "yxDmityz8H1O",
    "outputId": "b294ec61-1560-4a3b-c1b1-d8d7bd14f850"
   },
   "execution_count": null,
   "outputs": [
    {
     "output_type": "stream",
     "name": "stdout",
     "text": [
      "for beta_Intercept do not reject H0\n",
      "for beta_Debtor reject H0\n",
      "for beta_Curricular units 1st sem (grade) reject H0\n",
      "for beta_GDP do not reject H0\n"
     ]
    }
   ]
  },
  {
   "cell_type": "markdown",
   "source": [
    "8)"
   ],
   "metadata": {
    "id": "2pvUg2z48Tbf"
   }
  },
  {
   "cell_type": "markdown",
   "source": [
    "In order to show that the linarity assumption holds we will check if there is similar spread around e=0 in the residual analysis plot and also we want to check if there is constant variance for the residual we will check this also using the residual analysis plot:"
   ],
   "metadata": {
    "id": "kV3DqJUT8ayn"
   }
  },
  {
   "cell_type": "code",
   "source": [
    "coefs = np.array([reg.intercept_] + list(reg.coef_))\n",
    "plt.scatter(covariates_w_1 @ coefs, Y - covariates_w_1 @ coefs)\n",
    "plt.plot(covariates_w_1 @ coefs, np.zeros(len(Y)), c='black')\n",
    "plt.title(\"Residulas Analysis\")\n",
    "plt.ylabel(\"residual(e)\")\n",
    "plt.xlabel(\"y predicted Curricular units 2nd sem (grade)\")\n",
    "plt.show()"
   ],
   "metadata": {
    "colab": {
     "base_uri": "https://localhost:8080/",
     "height": 480
    },
    "id": "jfBm3qF28Uo4",
    "outputId": "0bea315d-eb11-467c-d7ba-5be7e8a0be17"
   },
   "execution_count": null,
   "outputs": [
    {
     "output_type": "display_data",
     "data": {
      "text/plain": [
       "<Figure size 640x480 with 1 Axes>"
      ],
      "image/png": "[encoded data removed]"
     },
     "metadata": {}
    }
   ]
  },
  {
   "cell_type": "markdown",
   "source": [
    "as we can see in the plot there is similar spread of the residual around e=0 , but the variance is not constant, This is because, it seems that there is an impact of the x-values on the observed residual. Thus, the linearity assumption is not reasonable."
   ],
   "metadata": {
    "id": "AiL5iuSS8kij"
   }
  },
  {
   "cell_type": "markdown",
   "source": [
    "9)"
   ],
   "metadata": {
    "id": "1ktyovVl8wtd"
   }
  },
  {
   "cell_type": "code",
   "source": [
    "# remove the 200 sampled points and sample 1000 new ones\n",
    "new_data = df.drop(list(sampled_data.index)).sample(n=1000)\n",
    "new_data_np=new_data[['Debtor','Curricular units 1st sem (grade)','GDP']].to_numpy()\n",
    "new_data_w_1=np.insert(new_data_np,0,np.ones(new_data.shape[0]),axis=1)\n",
    "Y_pred=new_data_w_1@coefs\n",
    "Y_sampled=new_data['Curricular units 2nd sem (grade)'].to_numpy()\n",
    "res = Y_sampled-Y_pred\n",
    "var_estimate = 1/(new_data_np.shape[0]-new_data_w_1.shape[1])*sum([x**2 for x in res])\n",
    "Proportion = []\n",
    "z_quantile = stats.norm.ppf(0.975)\n",
    "for index, row in new_data.iterrows():\n",
    "    \"\"\"\n",
    "    9.a\n",
    "    \"\"\"\n",
    "    x_new = np.array([1, row[\"Debtor\"], row[\"Curricular units 1st sem (grade)\"], row[\"GDP\"]])\n",
    "    y_pred = x_new.T @ coefs\n",
    "    \"\"\"\n",
    "    9.b +9.c\n",
    "    \"\"\"\n",
    "    se = z_quantile * (var_estimate * (1 + x_new.T @ C @ x_new)) ** 0.5\n",
    "    CI = [y_pred - se, y_pred + se]\n",
    "    Proportion.append(CI[0] <= row[\"Curricular units 2nd sem (grade)\"] <= CI[1])\n",
    "\n",
    "print(\"Proportion of real predictions inside the CI's:\", sum(Proportion) / len(Proportion))"
   ],
   "metadata": {
    "colab": {
     "base_uri": "https://localhost:8080/"
    },
    "id": "vUkd-BCF8xmM",
    "outputId": "c0c5273e-6837-4901-d166-23470a8d2e13"
   },
   "execution_count": null,
   "outputs": [
    {
     "output_type": "stream",
     "name": "stdout",
     "text": [
      "Proportion of real predictions inside the CI's: 0.948\n"
     ]
    }
   ]
  },
  {
   "cell_type": "markdown",
   "source": [
    "Proportion of real predictions inside the CI's: 0.948, which is very close to 0.95, as expected by the defnition of CI - as we saw in class, the probability of the true value to be contained in the CI is approximated by 0.95. Thus, the results fits the theory, and suggest that the data is approximately distributed normally, as we assumed when building the approximated CI.\n",
    "\n",
    "Note that the distrbution of the new sample is not guranteed to be the same as the distrbution of the intial sample, which can affect our results."
   ],
   "metadata": {
    "id": "TafqMI4z9NyH"
   }
  },
  {
   "cell_type": "markdown",
   "source": [
    "10)"
   ],
   "metadata": {
    "id": "T2delOpo9WUK"
   }
  },
  {
   "cell_type": "code",
   "source": [
    "sampled_data[\"12\"] = sampled_data[\"Debtor\"] * sampled_data[\"Curricular units 1st sem (grade)\"]\n",
    "sampled_data[\"13\"] = sampled_data[\"Debtor\"] * sampled_data[\"GDP\"]\n",
    "sampled_data[\"23\"] = sampled_data[\"Curricular units 1st sem (grade)\"] * sampled_data[\"GDP\"]\n",
    "\n",
    "new_model_data = np.array(sampled_data[[\"Debtor\", \"Curricular units 1st sem (grade)\", \"GDP\", \"12\",\n",
    "                                \"13\", \"23\"]])\n",
    "\n",
    "newModel_X_w_1 = np.insert(new_model_data, 0, np.ones(new_model_data.shape[0]), axis=1)\n",
    "\n",
    "NewModel_reg = LinearRegression(fit_intercept=True).fit(new_model_data, Y)\n",
    "\n",
    "print(f\"beta for the new model is\")\n",
    "print(np.array([NewModel_reg.intercept_] + list(NewModel_reg.coef_)))"
   ],
   "metadata": {
    "colab": {
     "base_uri": "https://localhost:8080/"
    },
    "id": "z82MkUsh9XUw",
    "outputId": "469d8013-9f47-42dc-f3a9-6cd908f65aa7"
   },
   "execution_count": null,
   "outputs": [
    {
     "output_type": "stream",
     "name": "stdout",
     "text": [
      "beta for the new model is\n",
      "[ 0.80989904 -0.41443752  0.90107275  0.04530751 -0.12192403  0.36748319\n",
      "  0.00113042]\n"
     ]
    }
   ]
  },
  {
   "cell_type": "markdown",
   "source": [
    "to choose the best model we will use model evaluation:\n",
    "\n",
    "1) Mallow's cp statistics\n",
    "\n",
    "2)AIC"
   ],
   "metadata": {
    "id": "Sqm-K4gF9wIi"
   }
  },
  {
   "cell_type": "markdown",
   "source": [
    "Mallow's cp statistic :"
   ],
   "metadata": {
    "id": "eScqdI499x9g"
   }
  },
  {
   "cell_type": "code",
   "source": [
    "newModel_coefs = np.array([NewModel_reg.intercept_] + list(NewModel_reg.coef_))\n",
    "NewModel_y_predict = newModel_X_w_1 @ newModel_coefs\n",
    "R_train_estimated = np.sum((Y - NewModel_y_predict) ** 2)\n",
    "print(\"New Model, Mallow's CP:\", R_train_estimated + 2 * (len(newModel_coefs)-1) * R_train_estimated / (len(Y) - len(newModel_coefs)) )\n",
    "print(\"Old model Mallow's CP:\", SSE + 2 * (len(coefs)-1) * sigma_epsilon_squared)"
   ],
   "metadata": {
    "colab": {
     "base_uri": "https://localhost:8080/"
    },
    "id": "ygMZeNgH9zG2",
    "outputId": "7a3a5e9e-3128-4f5a-f6bf-4e0e6d1416ff"
   },
   "execution_count": null,
   "outputs": [
    {
     "output_type": "stream",
     "name": "stdout",
     "text": [
      "New Model, Mallow's CP: 1377.1964901488222\n",
      "Old model Mallow's CP: 1354.835976329381\n"
     ]
    }
   ]
  },
  {
   "cell_type": "markdown",
   "source": [
    "AIC:"
   ],
   "metadata": {
    "id": "h3f2sc1890o7"
   }
  },
  {
   "cell_type": "code",
   "source": [
    "reg_old = sm.OLS(Y,np.array(sampled_data[[\"Debtor\", \"Curricular units 1st sem (grade)\", \"GDP\"]])).fit()\n",
    "reg_NewModel = sm.OLS(Y,new_model_data).fit()\n",
    "likelihood_model_old = -0.5 * (reg_old.aic)\n",
    "likelihood_model_interaction = -0.5 * (reg_NewModel.aic)\n",
    "aic_res = likelihood_model_old - len(reg.coef_)\n",
    "aic_interaction_res = likelihood_model_interaction - len(NewModel_reg.coef_)\n",
    "print(f\"The AIC for the old model is: {aic_res}\")\n",
    "print(f\"The AIC for the new model is: {aic_interaction_res}\")"
   ],
   "metadata": {
    "colab": {
     "base_uri": "https://localhost:8080/"
    },
    "id": "JTstln9I92Ua",
    "outputId": "4af9dd18-b458-4843-bc10-4ffa4bf9ffdc"
   },
   "execution_count": null,
   "outputs": [
    {
     "output_type": "stream",
     "name": "stdout",
     "text": [
      "The AIC for the old model is: -479.467657522664\n",
      "The AIC for the new model is: -483.78517127234693\n"
     ]
    }
   ]
  },
  {
   "cell_type": "markdown",
   "source": [
    "According to the two evaluation methods we conclude that the New model, with interactions is not better. For Mallows cp we prefer the smaller result. While, for AIC we prefer the larger one. And the new model mallow's cp is higher and we get smaller result in the AIC."
   ],
   "metadata": {
    "id": "qZErIvX4-bxf"
   }
  },
  {
   "cell_type": "markdown",
   "source": [
    "# **Part B:**"
   ],
   "metadata": {
    "id": "EAaUUZvLBFPa"
   }
  },
  {
   "cell_type": "markdown",
   "source": [
    "**Research Question:**\n",
    "\n",
    "we will use these explanatory varibales:\n",
    "\n",
    "1.Curricular units 1st sem (grade) (continuous)\n",
    "\n",
    "2.GDP (continuous)\n",
    "\n",
    "3.Debtor (discrete)\n",
    "\n",
    "\n",
    "the explained varibale is:\n",
    "\n",
    "Scholarship holder , that is a binary variable\n",
    "\n",
    "**the question is:**\n",
    "\n",
    "what is the effect of the Curricular units 1st sem (grade), Age at enrollment , GDP on Scholarship holder\n"
   ],
   "metadata": {
    "id": "-evtu6FJBF67"
   }
  },
  {
   "cell_type": "markdown",
   "source": [
    "2)"
   ],
   "metadata": {
    "id": "pYoaZ1pwCF2c"
   }
  },
  {
   "cell_type": "code",
   "source": [
    "np.random.seed(1)\n",
    "sampled_data=df.sample(n=200)\n",
    "##taking only the columns we are working with\n",
    "covariates=sampled_data[['GDP','Curricular units 1st sem (grade)','Debtor']]\n",
    "Y=sampled_data['Scholarship holder']\n",
    "covariates_np=covariates.to_numpy()"
   ],
   "metadata": {
    "id": "XBAfJVcoCGqL"
   },
   "execution_count": 82,
   "outputs": []
  },
  {
   "cell_type": "markdown",
   "source": [
    "3)"
   ],
   "metadata": {
    "id": "o73OdOZoCaqb"
   }
  },
  {
   "cell_type": "markdown",
   "source": [
    "a."
   ],
   "metadata": {
    "id": "1TGJ_OACCcoU"
   }
  },
  {
   "cell_type": "code",
   "source": [
    "# Categorical variable for which we want to create visualizations\n",
    "categorical_variable = ['Scholarship holder']\n",
    "\n",
    "# Count the frequency of each category\n",
    "category_counts = sampled_data[categorical_variable[0]].value_counts()\n",
    "\n",
    "\n",
    "# Create a bar plot\n",
    "\n",
    "category_counts.plot(kind='bar', color='skyblue' ,ec=\"black\")\n",
    "plt.title(f\"Bar Plot of {categorical_variable[0]}\")\n",
    "plt.xlabel(categorical_variable[0])\n",
    "plt.ylabel(\"Count\")\n",
    "\n",
    "plt.tight_layout()  # Adjust layout for better spacing\n",
    "plt.show()"
   ],
   "metadata": {
    "colab": {
     "base_uri": "https://localhost:8080/",
     "height": 480
    },
    "id": "Z4J1csG8CTb_",
    "outputId": "466a7710-db03-44aa-bf8d-0b41624a04fc"
   },
   "execution_count": 83,
   "outputs": [
    {
     "output_type": "display_data",
     "data": {
      "text/plain": [
       "<Figure size 640x480 with 1 Axes>"
      ],
      "image/png": "[encoded data removed]"
     },
     "metadata": {}
    }
   ]
  },
  {
   "cell_type": "markdown",
   "source": [
    "explanation of the bar plot:\n",
    "\n",
    "as we see in the barplot most of the records in the sampled data are people that are not scholarship holders"
   ],
   "metadata": {
    "id": "7UtXBUSzC3vw"
   }
  },
  {
   "cell_type": "markdown",
   "source": [
    "Since the scholarship holder is the only new column the rest of the graphs and explanations are the same as in part A"
   ],
   "metadata": {
    "id": "JpUnAoqUDdTw"
   }
  },
  {
   "cell_type": "markdown",
   "source": [
    "b."
   ],
   "metadata": {
    "id": "i_ltSZs5C9gb"
   }
  },
  {
   "cell_type": "markdown",
   "source": [
    "Missing Values:\n",
    "\n",
    "we checked if there are missing values in the entire data and we saw that there is not missing values (since the data is cleaned (the original copy of the data)), thus in the sampled data that is sampled from the entire data there no missing values."
   ],
   "metadata": {
    "id": "e6xOjqp4DAuX"
   }
  },
  {
   "cell_type": "markdown",
   "source": [
    "outliers:\n",
    "\n",
    "the only new column we chose to work with is Scholarship holder and it is a binary column thus there is no outliers.\n",
    "\n",
    "symmertric distribution:\n",
    "\n",
    "since it's a discrete variable:\n",
    "\n",
    "we note that this is a binary discrete variable,so it is distributed Ber(p), this distribution is symmetrical iff p=0.5. we do not know p but we can estimate it to be the proportion of people with 1 in the column from the total samples,from the barplot above we can see clearly that p not equal to 0.5, thus it is not symmetrical"
   ],
   "metadata": {
    "id": "SFcVQlQXDBaj"
   }
  },
  {
   "cell_type": "markdown",
   "source": [
    "c."
   ],
   "metadata": {
    "id": "cKMPIo-cD0Hw"
   }
  },
  {
   "cell_type": "code",
   "source": [
    "def check(value):\n",
    "  if value==1:\n",
    "    return 'Scholarship holder'\n",
    "  else:\n",
    "    return 'are not Scholarship holder'\n",
    "\n",
    "plt.figure(figsize=(15, 12))\n",
    "plt.subplots_adjust(hspace=0.2)\n",
    "plt.suptitle(\"Sample histogram of the continuous variable among those that are Scholarship holder and not Scholarship holder\", fontsize=18, y=0.95)\n",
    "\n",
    "categ = sampled_data['Scholarship holder'].unique()\n",
    "nc = math.ceil(len(categ)/2)\n",
    "nrows=nc\n",
    "ncols=2\n",
    "\n",
    "\n",
    "for n, c in enumerate(categ):\n",
    "  data = sampled_data[sampled_data['Scholarship holder']==c]['Curricular units 1st sem (grade)']\n",
    "  ax = plt.subplot(nrows, ncols, n + 1)\n",
    "  data.hist(ax=ax, bins=10, ec=\"black\", color=\"blue\")\n",
    "  ax.set(ylabel=\"counts\", xlabel='Curricular units 1st sem (grade)',title=check(c))\n",
    "plt.show()"
   ],
   "metadata": {
    "colab": {
     "base_uri": "https://localhost:8080/",
     "height": 1000
    },
    "id": "k-SrQ_XGC-Pl",
    "outputId": "6ced87f0-0135-4f38-a78d-b37c40145d2d"
   },
   "execution_count": 61,
   "outputs": [
    {
     "output_type": "display_data",
     "data": {
      "text/plain": [
       "<Figure size 1500x1200 with 2 Axes>"
      ],
      "image/png": "[encoded data removed]"
     },
     "metadata": {}
    }
   ]
  },
  {
   "cell_type": "markdown",
   "source": [
    "The histograms reveal that scholarship holders generally achieve higher and more consistent grades in the 1st semester, with most grades concentrated between 12 and 14. In contrast, non-scholarship holders show greater variability, with a significant number of grades near 0"
   ],
   "metadata": {
    "id": "NBZIB98TEX5b"
   }
  },
  {
   "cell_type": "code",
   "source": [
    "def check(value):\n",
    "  if value==1:\n",
    "    return 'Scholarship holder'\n",
    "  else:\n",
    "    return 'are not Scholarship holder'\n",
    "\n",
    "plt.figure(figsize=(15, 12))\n",
    "plt.subplots_adjust(hspace=0.2)\n",
    "plt.suptitle(\"Sample histogram of the continuous variable among those that are Scholarship holder and not Scholarship holder\", fontsize=18, y=0.95)\n",
    "\n",
    "categ = sampled_data['Scholarship holder'].unique()\n",
    "nc = math.ceil(len(categ)/2)\n",
    "nrows=nc\n",
    "ncols=2\n",
    "\n",
    "\n",
    "for n, c in enumerate(categ):\n",
    "  data = sampled_data[sampled_data['Scholarship holder']==c]['GDP']\n",
    "  ax = plt.subplot(nrows, ncols, n + 1)\n",
    "  data.hist(ax=ax, bins=10, ec=\"black\", color=\"blue\")\n",
    "  ax.set(ylabel=\"counts\", xlabel='GDP',title=check(c))\n",
    "plt.show()"
   ],
   "metadata": {
    "colab": {
     "base_uri": "https://localhost:8080/",
     "height": 1000
    },
    "id": "7sw7_0FXFNbf",
    "outputId": "b352666d-0da8-4e4e-fccc-a16cc9988bcb"
   },
   "execution_count": 63,
   "outputs": [
    {
     "output_type": "display_data",
     "data": {
      "text/plain": [
       "<Figure size 1500x1200 with 2 Axes>"
      ],
      "image/png": "[encoded data removed]"
     },
     "metadata": {}
    }
   ]
  },
  {
   "cell_type": "markdown",
   "source": [
    "The histograms compare the GDP distribution for scholarship holders and non-scholarship holders. Scholarship holders (right) show a higher concentration of GDP in the positive range (1 to 3), indicating that they are more likely associated with higher GDP values. Non-scholarship holders (left) exhibit a wider and more even spread across the GDP range, with significant counts in both negative and positive values"
   ],
   "metadata": {
    "id": "xySqC8MIFvcm"
   }
  },
  {
   "cell_type": "markdown",
   "source": [
    "4)"
   ],
   "metadata": {
    "id": "Rmjs0CbPFzMV"
   }
  },
  {
   "cell_type": "code",
   "source": [
    "variables = [\"Debtor\", \"Curricular units 1st sem (grade)\", \"GDP\"]\n",
    "X = np.array(sampled_data[variables])\n",
    "X=np.insert(X,0,np.ones(X.shape[0]),axis=1)\n",
    "Y = np.array(sampled_data[\"Scholarship holder\"])\n",
    "reg = LogisticRegression(penalty=None,fit_intercept=False).fit(X, Y)\n",
    "coefs =reg.coef_\n",
    "print('estimated beta is:')\n",
    "print(coefs[0])\n",
    "print('___________________')\n",
    "\n",
    "print(f' If {variables[0]} will increase in one the log of OR will increase in : {math.exp(coefs[0][1]):.04}')\n",
    "print(f' If {variables[1]} will increase in one the log of OR will increase in : {math.exp(coefs[0][2]):.04}')\n",
    "print(f' If {variables[2]} will increase in one the log of OR will increase in : {math.exp(coefs[0][3]):.04}')\n",
    "\n"
   ],
   "metadata": {
    "colab": {
     "base_uri": "https://localhost:8080/"
    },
    "id": "5G92fUe5Fuqk",
    "outputId": "3a140a1a-e5fb-4bfd-899a-802838bfc512"
   },
   "execution_count": 65,
   "outputs": [
    {
     "output_type": "stream",
     "name": "stdout",
     "text": [
      "estimated beta is:\n",
      "[-2.38532223 -0.04197388  0.09369637  0.13916703]\n",
      "___________________\n",
      " If Debtor will increase in one the log of OR will increase in : 0.9589\n",
      " If Curricular units 1st sem (grade) will increase in one the log of OR will increase in : 1.098\n",
      " If GDP will increase in one the log of OR will increase in : 1.149\n"
     ]
    }
   ]
  },
  {
   "cell_type": "markdown",
   "source": [
    "5)"
   ],
   "metadata": {
    "id": "zlLJ05FxGOiU"
   }
  },
  {
   "cell_type": "code",
   "source": [
    "def sigmoid(n):\n",
    "  ''' sigmoid function '''\n",
    "  return math.exp(n)/(1 + math.exp(n))\n",
    "\n",
    "# X_w_1 = np.insert(X, 0, np.ones(X.shape[0]), axis=1)\n",
    "V = np.zeros((len(X), len(X)))\n",
    "\n",
    "np_coefs = np.array(coefs[0])\n",
    "for i, x in enumerate(X):\n",
    "    V[i][i] = sigmoid(np_coefs @ x.T) * (1 - sigmoid(np_coefs @ x.T))\n",
    "\n",
    "C = np.linalg.inv((X.T @ V @ X).astype('float'))\n",
    "logistic_coefs_confidence_intervals = []\n",
    "\n",
    "variables = ['0'] + variables\n",
    "for i, coef in enumerate(coefs[0]):\n",
    "    z_quantile = stats.norm.ppf(0.975)\n",
    "    CI = [coef - z_quantile * C[i][i] ** 0.5, coef + z_quantile * C[i][i] ** 0.5]\n",
    "    logistic_coefs_confidence_intervals.append(CI)\n",
    "    print(f\"beta_{variables[i]} CI:\", CI)"
   ],
   "metadata": {
    "colab": {
     "base_uri": "https://localhost:8080/"
    },
    "id": "c6203fsGGM1q",
    "outputId": "4607a01d-0e6d-48d6-8904-c6c403586c84"
   },
   "execution_count": 66,
   "outputs": [
    {
     "output_type": "stream",
     "name": "stdout",
     "text": [
      "beta_0 CI: [-3.7657194546405295, -1.004925007990584]\n",
      "beta_Debtor CI: [-1.0495210700720625, 0.9655733083275516]\n",
      "beta_Curricular units 1st sem (grade) CI: [-0.014387303281708425, 0.20178005238273947]\n",
      "beta_GDP CI: [-0.01461640230701089, 0.2929504705957116]\n"
     ]
    }
   ]
  },
  {
   "cell_type": "code",
   "source": [
    "X_full = np.array(df[[\"Debtor\", \"Curricular units 1st sem (grade)\", \"GDP\"]])\n",
    "X_full_w_1=np.insert(X_full,0,np.ones(X_full.shape[0]),axis=1)\n",
    "y_full = np.array(df[\"Scholarship holder\"])\n",
    "reg_full = LogisticRegression(penalty=None,fit_intercept=False).fit(X_full_w_1, y_full)\n",
    "coefs_full =reg_full.coef_\n",
    "coefs_full=coefs_full[0]\n",
    "in_CI = []\n",
    "for i, beta in enumerate(coefs_full):\n",
    "  if  logistic_coefs_confidence_intervals[i][0] <= beta<= logistic_coefs_confidence_intervals[i][1]:\n",
    "    in_CI.append(True)\n",
    "  else:\n",
    "    in_CI.append(False)\n",
    "\n",
    "for i, feature in enumerate([\"Intercept\", \"Debtor\", \"Curricular units 1st sem (grade)\", \"GDP\"]):\n",
    "  if in_CI[i]:\n",
    "    print(f\"The beta_{feature} for all the data is in the confidence interval for beta we estimated for the sampled data \")\n",
    "  else:\n",
    "    print(f\"The beta_{feature} for all the data is not in the confidence interval for beta we estimated for the sampled data \")"
   ],
   "metadata": {
    "colab": {
     "base_uri": "https://localhost:8080/"
    },
    "id": "TPSw0d5rGUUO",
    "outputId": "a948167c-b601-48e9-a6d9-5107dfb34cdb"
   },
   "execution_count": 67,
   "outputs": [
    {
     "output_type": "stream",
     "name": "stdout",
     "text": [
      "The beta_Intercept for all the data is in the confidence interval for beta we estimated for the sampled data \n",
      "The beta_Debtor for all the data is in the confidence interval for beta we estimated for the sampled data \n",
      "The beta_Curricular units 1st sem (grade) for all the data is in the confidence interval for beta we estimated for the sampled data \n",
      "The beta_GDP for all the data is in the confidence interval for beta we estimated for the sampled data \n"
     ]
    }
   ]
  },
  {
   "cell_type": "markdown",
   "source": [
    "We got that all the estimated parameters is in the relevant CIs."
   ],
   "metadata": {
    "id": "8TZSfSx5G0nP"
   }
  },
  {
   "cell_type": "markdown",
   "source": [
    "6)"
   ],
   "metadata": {
    "id": "87fBUluZG3V7"
   }
  },
  {
   "cell_type": "code",
   "source": [
    "sampled_data[\"12\"] = sampled_data[\"Curricular units 1st sem (grade)\"] * sampled_data[\"Debtor\"]\n",
    "sampled_data[\"13\"] = sampled_data[\"Curricular units 1st sem (grade)\"] * sampled_data[\"GDP\"]\n",
    "sampled_data[\"23\"] = sampled_data[\"Debtor\"] * sampled_data[\"GDP\"]\n",
    "\n",
    "new_model_data = np.array(sampled_data[[\"Curricular units 1st sem (grade)\", \"Debtor\", \"GDP\", \"12\",\n",
    "                                \"13\", \"23\"]])\n",
    "new_model_data_w_1=np.insert(new_model_data,0,np.ones(new_model_data.shape[0]),axis=1)\n",
    "NewModel_reg = LogisticRegression(penalty=None,fit_intercept=False).fit(new_model_data_w_1, Y)\n",
    "print(f\"beta for the new model is\")\n",
    "New_model_coef=NewModel_reg.coef_\n",
    "New_model_coef=New_model_coef[0]\n",
    "print(New_model_coef)"
   ],
   "metadata": {
    "colab": {
     "base_uri": "https://localhost:8080/"
    },
    "id": "-9PLzf6hG1au",
    "outputId": "c417cea4-210d-4b92-f064-39aa11b8be71"
   },
   "execution_count": 68,
   "outputs": [
    {
     "output_type": "stream",
     "name": "stdout",
     "text": [
      "beta for the new model is\n",
      "[-2.37393506  0.08896864 -3.71444511  0.30705505  0.3239806  -0.00769786\n",
      " -0.49504217]\n"
     ]
    }
   ]
  },
  {
   "cell_type": "markdown",
   "source": [
    "**likelihood ratio test:**\n",
    "log likelihood:\n",
    "\n",
    "$$H_0: β^∗_4=β^∗_5=β^∗_6=0$$\n",
    "\n",
    "$$H_1: ∃ β^*_j ≠ 0, j∈ {4, 5, 6}$$\n",
    "\n",
    "$$T.S.:λ=2(ln(βⁿ)−ln(β_0,n))$$\n",
    "\n",
    "$$R.R.:λ>χ^2_{3,0.95}$$"
   ],
   "metadata": {
    "id": "QhBgY68fHQwH"
   }
  },
  {
   "cell_type": "code",
   "source": [
    "# likelihood ratio test\n",
    "\n",
    "def sigmoid_OldModel(x):\n",
    "    return math.exp(np_coefs @ x.T) / (1+math.exp(np_coefs @ x.T) )\n",
    "\n",
    "def sigmoid_NewModel(x):\n",
    "    return math.exp(np.array(New_model_coef) @ x.T) / (1+math.exp(np.array(New_model_coef) @ x.T) )\n",
    "\n",
    "t = 2 * sum([math.log(sigmoid_NewModel(new_model_data_w_1[i]) ** Y[i] * (1 - sigmoid_NewModel(new_model_data_w_1[i])) ** (1 - Y[i])) -\n",
    "         math.log(sigmoid_OldModel(X[i]) ** Y[i] * (1 - sigmoid_OldModel(X[i])) ** (1 - Y[i])) for i in range(X.shape[0])])\n",
    "\n",
    "if t > stats.chi2.ppf(0.95, 3):\n",
    "    print(\"Reject H0,the model is : beta_0, beta_1, beta_2, beta_3, beta_12, beta_13, beta_23 (the new model)\")\n",
    "else:\n",
    "    print(\"Do NOT reject H0, the model coeffecients are : beta_0, beta_1, beta_2, beta_3 (the old model)\")"
   ],
   "metadata": {
    "colab": {
     "base_uri": "https://localhost:8080/"
    },
    "id": "BUPFvbZvHRZe",
    "outputId": "8b03c8a2-a364-4dc6-9d2a-c65ca940b82a"
   },
   "execution_count": 69,
   "outputs": [
    {
     "output_type": "stream",
     "name": "stdout",
     "text": [
      "Do NOT reject H0, the model coeffecients are : beta_0, beta_1, beta_2, beta_3 (the old model)\n"
     ]
    }
   ]
  },
  {
   "cell_type": "markdown",
   "source": [
    "we will use mallow's cp:"
   ],
   "metadata": {
    "id": "5DEhr-3mHaXO"
   }
  },
  {
   "cell_type": "code",
   "source": [
    "def pi_logistic(xi,beta):\n",
    "  return np.exp((beta @ xi)) / (1+np.exp(beta@xi))\n",
    "SSE =sum((Y[i] - pi_logistic(X[i],np_coefs))**2 for i in range(X.shape[0]))\n",
    "p_new = new_model_data_w_1.shape[1]\n",
    "n_new = new_model_data_w_1.shape[0]\n",
    "SSE_new = sum([(Y[i] - pi_logistic(new_model_data_w_1[i],New_model_coef))**2 for i in range(new_model_data_w_1.shape[0])])\n",
    "\n",
    "var_new = (1/(n_new-p_new))*SSE_new\n",
    "var_old = (1/(X.shape[0]-X.shape[1]))*SSE\n",
    "print(\"New Model, Mallow's CP:\", SSE_new + 2 * (new_model_data_w_1.shape[1]-1) * var_new )\n",
    "print(\"Old model Mallow's CP:\", SSE + 2 * (X.shape[1]-1) * var_old)"
   ],
   "metadata": {
    "colab": {
     "base_uri": "https://localhost:8080/"
    },
    "id": "bG-bkBWsHa-K",
    "outputId": "72ef3a12-96c6-42b2-d5a6-b2282c6e900b"
   },
   "execution_count": 70,
   "outputs": [
    {
     "output_type": "stream",
     "name": "stdout",
     "text": [
      "New Model, Mallow's CP: 35.3751803689722\n",
      "Old model Mallow's CP: 35.26176814771422\n"
     ]
    }
   ]
  },
  {
   "cell_type": "markdown",
   "source": [
    "Since we want to minimize the mallow cp, we also should prefer the orginal model. In both tests we got the same result."
   ],
   "metadata": {
    "id": "or8Z-yL_Hgts"
   }
  },
  {
   "cell_type": "markdown",
   "source": [
    "7)"
   ],
   "metadata": {
    "id": "kzoGC0mcHjFH"
   }
  },
  {
   "cell_type": "markdown",
   "source": [
    "\n",
    "for columns with string values we will replace each unique value to numbers from 0 until the number of different values"
   ],
   "metadata": {
    "id": "iiWsi33iH0gZ"
   }
  },
  {
   "cell_type": "code",
   "source": [
    "string_columns = df.select_dtypes(include=['object', 'string']).columns.tolist()\n",
    "for col in string_columns:\n",
    "  vars = sampled_data[col].unique()\n",
    "  i = 0\n",
    "  for var in vars:\n",
    "    sampled_data[col].replace(var, i, inplace=True)\n",
    "    i+=1"
   ],
   "metadata": {
    "colab": {
     "base_uri": "https://localhost:8080/"
    },
    "id": "V21IAOEEHkP0",
    "outputId": "d849265d-f0f8-40ac-e8ef-ae85aa0c717b"
   },
   "execution_count": 84,
   "outputs": [
    {
     "output_type": "stream",
     "name": "stderr",
     "text": [
      "<ipython-input-84-82286fbc87d5>:6: FutureWarning: A value is trying to be set on a copy of a DataFrame or Series through chained assignment using an inplace method.\n",
      "The behavior will change in pandas 3.0. This inplace method will never work because the intermediate object on which we are setting values always behaves as a copy.\n",
      "\n",
      "For example, when doing 'df[col].method(value, inplace=True)', try using 'df.method({col: value}, inplace=True)' or df[col] = df[col].method(value) instead, to perform the operation inplace on the original object.\n",
      "\n",
      "\n",
      "  sampled_data[col].replace(var, i, inplace=True)\n",
      "<ipython-input-84-82286fbc87d5>:6: FutureWarning: Downcasting behavior in `replace` is deprecated and will be removed in a future version. To retain the old behavior, explicitly call `result.infer_objects(copy=False)`. To opt-in to the future behavior, set `pd.set_option('future.no_silent_downcasting', True)`\n",
      "  sampled_data[col].replace(var, i, inplace=True)\n"
     ]
    }
   ]
  },
  {
   "cell_type": "code",
   "source": [
    "len(sampled_data.columns)"
   ],
   "metadata": {
    "colab": {
     "base_uri": "https://localhost:8080/"
    },
    "id": "GsQdiL7SIyEV",
    "outputId": "d96b6d30-6547-4115-9a60-22fa89507497"
   },
   "execution_count": 85,
   "outputs": [
    {
     "output_type": "execute_result",
     "data": {
      "text/plain": [
       "35"
      ]
     },
     "metadata": {},
     "execution_count": 85
    }
   ]
  },
  {
   "cell_type": "markdown",
   "source": [
    "we have 38 column so there is no need to add more explanatory variables,"
   ],
   "metadata": {
    "id": "mu2izFR9I1sy"
   }
  },
  {
   "cell_type": "markdown",
   "source": [
    "we want to caculate the variance on the full model:"
   ],
   "metadata": {
    "id": "_ZgFAFa4JRnu"
   }
  },
  {
   "cell_type": "code",
   "source": [
    "X_full=sampled_data.to_numpy()\n",
    "Y = np.array(sampled_data[\"Scholarship holder\"])\n",
    "X_full_w_1=np.insert(X_full, 0, np.ones(X_full.shape[0]), axis=1)\n",
    "reg_full = LogisticRegression(penalty=None,fit_intercept=False,max_iter=10000)\\\n",
    ".fit(X_full_w_1,Y)\n",
    "coefficients = reg_full.coef_\n",
    "beta_full = coefficients[0]\n",
    "full_SSE = sum([(Y[i]-pi_logistic(X_full_w_1[i],beta_full))**2 for i in range(X_full_w_1.shape[0])])\n",
    "n = X_full.shape[0]\n",
    "p = X_full_w_1.shape[1]\n",
    "var_eps_full = (1/(n-p))*full_SSE\n",
    "full_model_mallow = full_SSE + 2*(beta_full.shape[0]-1)*var_eps_full\n",
    "\n",
    "reg_null = LogisticRegression(penalty=None, fit_intercept=False).fit(X_full_w_1[:,0].reshape(-1, 1),Y)\n",
    "beta_null = reg_null.coef_[0]\n",
    "e_null =sum([(Y[i] - pi_logistic(np.array([X_full_w_1[:,0][i]]),beta_null))**2 for i in range(X_full_w_1.shape[0])])\n",
    "null_model_mallow = e_null"
   ],
   "metadata": {
    "id": "Fj6TI17sJOqh"
   },
   "execution_count": 94,
   "outputs": []
  },
  {
   "cell_type": "code",
   "source": [
    "\"\"\"\n",
    "we want to start with mallow's cp that is very high we try to find\n",
    " the lowest mallow's cp value by using forward stepwise regression\n",
    "all_data: is all the data after adding the columns to the sampled_data and it is np array\n",
    "\"\"\"\n",
    "\n",
    "all_data=np.array(sampled_data)\n",
    "all_data_w_1=np.insert(all_data, 0, np.ones(all_data.shape[0]), axis=1)\n",
    "best_features_indices=[0]\n",
    "changed_value=1\n",
    "best_mallow_val=float('inf')\n",
    "num_var =1\n",
    "next_best_covs = [0]\n",
    "n=all_data.shape[0]\n",
    "\n",
    "while changed_value>0:\n",
    "  current_mallow=best_mallow_val\n",
    "  best_features_indices=next_best_covs\n",
    "  curr_var=num_var+1\n",
    "  ##we want to add the covariate that minimizes the mallow's cp in the current iteration\n",
    "  for i in range(1,all_data_w_1.shape[1]):\n",
    "   if i not in best_features_indices:\n",
    "    column_indices = best_features_indices + [i]\n",
    "    curr_data=all_data_w_1[:,column_indices]\n",
    "    curr_reg=LogisticRegression(penalty=None,fit_intercept=False, max_iter=10000).fit(curr_data,Y)\n",
    "    coefficients = curr_reg.coef_\n",
    "    estimated_beta =coefficients[0]\n",
    "    ##caculating mallow's cp\n",
    "    curr_SSE=sum([(Y[i]-pi_logistic(curr_data[i],estimated_beta))**2 for i in range(curr_data.shape[0])])\n",
    "    mallow_cp=curr_SSE+2*(len(estimated_beta)-1)*var_eps_full\n",
    "    if mallow_cp < current_mallow:\n",
    "      current_mallow = mallow_cp\n",
    "      next_best_covs = column_indices\n",
    "  changed_value=best_mallow_val-current_mallow\n",
    "  num_var+=1\n",
    "  best_mallow_val=current_mallow\n",
    "##since 0 is a column index of a column of ones it is not counted as an explanatory variable\n",
    "##we will remove it\n",
    "print('the best covariates are:')\n",
    "columns=sampled_data.columns.tolist()\n",
    "next_best_covs=np.array(next_best_covs)\n",
    "next_best_covs=next_best_covs[next_best_covs!=0]\n",
    "covariates=[columns[i] for i in next_best_covs]\n",
    "print(covariates)\n",
    "print('the mallow cp is :')\n",
    "print(best_mallow_val)"
   ],
   "metadata": {
    "colab": {
     "base_uri": "https://localhost:8080/"
    },
    "id": "wNw7Gxz1JTqE",
    "outputId": "8beea805-2bc2-46a7-9ad5-a5dfdf67cf87"
   },
   "execution_count": 95,
   "outputs": [
    {
     "output_type": "stream",
     "name": "stdout",
     "text": [
      "the best covariates are:\n",
      "['International', 'Curricular units 1st sem (credited)']\n",
      "the mallow cp is :\n",
      "1.1819182751788022e-07\n"
     ]
    }
   ]
  },
  {
   "cell_type": "markdown",
   "source": [
    "Those are the best covariates:\n",
    "\n",
    "['International', 'Curricular units 1st sem (credited)']\n",
    "\n",
    "the mallow cp is : 1.1819182751788022e-07"
   ],
   "metadata": {
    "id": "Y_FW3ONwJdob"
   }
  },
  {
   "cell_type": "markdown",
   "source": [
    "Backward stepwise regression:"
   ],
   "metadata": {
    "id": "3fmQBgxMLCib"
   }
  },
  {
   "cell_type": "code",
   "source": [
    "\"\"\"\n",
    "we want to start with mallow's cp that is very high we try to find\n",
    " the lowest mallow's cp value by using backward stepwise regression\n",
    "\"\"\"\n",
    "change = 1\n",
    "best_mallow_val =float('inf')\n",
    "num_var = all_data_w_1.shape[1]-1\n",
    "n =all_data_w_1.shape[0]\n",
    "best_covs = np.arange(num_var)\n",
    "next_best_covs = best_covs\n",
    "change_smaller_param=False\n",
    "\n",
    "while change > 0:\n",
    "\n",
    "  best_covs = next_best_covs\n",
    "  current_mallow = best_mallow_val\n",
    "  p = len(best_covs)\n",
    "  ##we want to remove the covariate that minimizes the mallow's cp in the current iteration without it\n",
    "\n",
    "  for i in best_covs[1:]:\n",
    "    column_indices = best_covs[best_covs!=i]\n",
    "    curr_data = all_data_w_1[:,column_indices]\n",
    "    reg_curr = LogisticRegression(penalty=None,fit_intercept=False, max_iter=10000).fit(curr_data,Y)\n",
    "    beta= reg_curr.coef_[0]\n",
    "    ##caculating mallow's cp\n",
    "    curr_SSE=sum([(Y[i]-pi_logistic(curr_data[i],beta))**2 for i in range(curr_data.shape[0])])\n",
    "    mallow_cp=curr_SSE+2*(len(beta)-1)*var_eps_full\n",
    "    if mallow_cp < current_mallow:\n",
    "      next_best_covs = column_indices\n",
    "      current_mallow = mallow_cp\n",
    "      # next_best_covs = column_indices\n",
    "  change=best_mallow_val-current_mallow\n",
    "  best_mallow_val=current_mallow\n",
    "##since 0 is a column index of a column of ones it is not counted as an explanatory variable\n",
    "##we will remove it\n",
    "print('the best covariates are:')\n",
    "columns=sampled_data.columns.tolist()\n",
    "next_best_covs=np.array(next_best_covs)\n",
    "next_best_covs=next_best_covs[next_best_covs!=0]\n",
    "covariates=[columns[i] for i in next_best_covs]\n",
    "print(covariates)\n",
    "print('the mallow cp is :')\n",
    "print(best_mallow_val)"
   ],
   "metadata": {
    "colab": {
     "base_uri": "https://localhost:8080/"
    },
    "id": "2LtgecTILEHs",
    "outputId": "678ede64-b685-4594-eccb-17ba1f73ead3"
   },
   "execution_count": 96,
   "outputs": [
    {
     "output_type": "stream",
     "name": "stdout",
     "text": [
      "the best covariates are:\n",
      "['Daytime/evening attendance', 'Age at enrollment', 'Curricular units 1st sem (credited)', 'Curricular units 1st sem (enrolled)', 'Curricular units 1st sem (evaluations)', 'Curricular units 1st sem (approved)', 'Curricular units 1st sem (grade)', 'Curricular units 1st sem (without evaluations)', 'Curricular units 2nd sem (credited)', 'Curricular units 2nd sem (evaluations)', 'Curricular units 2nd sem (approved)', 'Curricular units 2nd sem (grade)', 'Curricular units 2nd sem (without evaluations)', 'Unemployment rate', 'Inflation rate', 'GDP', 'Target', 'Marital status', 'Application mode', 'Course', 'Previous qualification', 'Nacionality', \"Mother's qualification\", \"Father's qualification\", \"Mother's occupation\", \"Father's occupation\", 'Displaced', 'Educational special needs', 'Debtor', 'Scholarship holder', 'International']\n",
      "the mallow cp is :\n",
      "1.3820793110369083e-06\n"
     ]
    }
   ]
  },
  {
   "cell_type": "markdown",
   "source": [
    "as we can see that in forward stepwise regression we did not get the same result as in backward stepwise regression .this might have happened because the algorithm is a greedy algorithm."
   ],
   "metadata": {
    "id": "vp6uMsxoLPoa"
   }
  },
  {
   "cell_type": "markdown",
   "source": [
    "8)"
   ],
   "metadata": {
    "id": "psQG5CLXLTia"
   }
  },
  {
   "cell_type": "markdown",
   "source": [
    "forward stepwise regression with AIC module evaluation method:"
   ],
   "metadata": {
    "id": "igKySXRLLYh2"
   }
  },
  {
   "cell_type": "code",
   "source": [
    "best_features_indices=[0]\n",
    "changed_value=1\n",
    "best_AIC=-float('inf')\n",
    "num_var =1\n",
    "next_best_covs = [0]\n",
    "n=all_data.shape[0]\n",
    "\n",
    "while changed_value>0:\n",
    "  current_AIC=best_AIC\n",
    "  best_features_indices=next_best_covs\n",
    "  ##we want to add the covariate that maximizes the AIC in the current iteration\n",
    "  for i in range(1,all_data_w_1.shape[1]):\n",
    "   if i not in best_features_indices:\n",
    "    column_indices = best_features_indices + [i]\n",
    "    curr_data=all_data_w_1[:,column_indices]\n",
    "    curr_reg=LogisticRegression(penalty=None,fit_intercept=False, max_iter=10000).fit(curr_data,Y)\n",
    "    coefficients = curr_reg.coef_\n",
    "    estimated_beta =coefficients[0]\n",
    "    ##caculating  current AIC\n",
    "    cur_aic = estimated_beta.T @ curr_data.T @ Y - sum([np.log(1+np.exp(estimated_beta @ xi)) for xi in curr_data]) - num_var\n",
    "    if current_AIC < cur_aic:\n",
    "      current_AIC = cur_aic\n",
    "      next_best_covs = column_indices\n",
    "  changed_value=current_AIC-best_AIC\n",
    "  num_var+=1\n",
    "  best_AIC=current_AIC\n",
    "##since 0 is a column index of a column of ones it is not counted as an explanatory variable\n",
    "##we will remove it\n",
    "print('the best covariates are:')\n",
    "columns=sampled_data.columns.tolist()\n",
    "next_best_covs=np.array(next_best_covs)\n",
    "next_best_covs=next_best_covs[next_best_covs!=0]\n",
    "covariates=[columns[i] for i in next_best_covs]\n",
    "print(covariates)\n",
    "print('the AIC is :')\n",
    "print(best_AIC)"
   ],
   "metadata": {
    "colab": {
     "base_uri": "https://localhost:8080/"
    },
    "id": "poIhJXReLdT2",
    "outputId": "42dc6a37-4a70-4204-955b-8dcfe9bfa13b"
   },
   "execution_count": 100,
   "outputs": [
    {
     "output_type": "stream",
     "name": "stdout",
     "text": [
      "the best covariates are:\n",
      "['International']\n",
      "the AIC is :\n",
      "-1.0321042921506205\n"
     ]
    }
   ]
  },
  {
   "cell_type": "markdown",
   "source": [
    "backward stepwise regression with AIC module evaluation method:"
   ],
   "metadata": {
    "id": "dtbT56fNLlCk"
   }
  },
  {
   "cell_type": "code",
   "source": [
    "change = 1\n",
    "best_AIC =-float('inf')\n",
    "num_var = all_data_w_1.shape[1]-1\n",
    "n =all_data_w_1.shape[0]\n",
    "best_covs = np.arange(num_var)\n",
    "next_best_covs = best_covs\n",
    "\n",
    "while change > 0:\n",
    "\n",
    "  best_covs = next_best_covs\n",
    "  current_AIC = best_AIC\n",
    "  p = len(best_covs)\n",
    "  ##we want to remove the covariate that without it we maximize the AIC in the current iteration\n",
    "  for i in best_covs[1:]:\n",
    "    column_indices = best_covs[best_covs!=i]\n",
    "    curr_data = all_data_w_1[:,column_indices]\n",
    "    reg_curr = LogisticRegression(penalty=None,fit_intercept=False, max_iter=10000).fit(curr_data,Y)\n",
    "    beta= reg_curr.coef_[0]\n",
    "    ##caculating AIC\n",
    "    current_aic = beta.T @ curr_data.T @ Y - sum([np.log(1+np.exp(beta @ xi)) for xi in curr_data])-(len(beta)-1)\n",
    "    if current_AIC < current_aic:\n",
    "      current_AIC = current_aic\n",
    "      next_best_covs = column_indices\n",
    "  change=current_AIC-best_AIC\n",
    "  best_AIC=current_AIC\n",
    "\n",
    "##since 0 is a column index of a column of ones it is not counted as an explanatory variable\n",
    "##we will remove it\n",
    "print('the best covariates are:')\n",
    "columns=sampled_data.columns.tolist()\n",
    "next_best_covs=np.array(next_best_covs)\n",
    "next_best_covs=next_best_covs[next_best_covs!=0]\n",
    "covariates=[columns[i] for i in next_best_covs]\n",
    "print(covariates)\n",
    "print('the AIC is :')\n",
    "print(best_AIC)"
   ],
   "metadata": {
    "colab": {
     "base_uri": "https://localhost:8080/"
    },
    "id": "td3YEHMSLe15",
    "outputId": "ad6f394a-6539-4864-a6cd-a07627ee8d41"
   },
   "execution_count": 101,
   "outputs": [
    {
     "output_type": "stream",
     "name": "stdout",
     "text": [
      "the best covariates are:\n",
      "['International']\n",
      "the AIC is :\n",
      "-1.0321042921506205\n"
     ]
    }
   ]
  },
  {
   "cell_type": "markdown",
   "source": [
    "explanation of the results:\n",
    "\n",
    "We are using the AIC score, with backward and forward stepwise regression. both methods yielded the same results . in both steps we got a different result from section 7.\n",
    "\n",
    "thus our decision for the best model have changed.\n",
    "\n",
    "it is expected that there might be differences because we used a different score - each score gives different results on models, hence there is a difference."
   ],
   "metadata": {
    "id": "K_jSW7TwL9Vb"
   }
  },
  {
   "cell_type": "code",
   "source": [],
   "metadata": {
    "id": "TZIdCbBOLnIE"
   },
   "execution_count": null,
   "outputs": []
  }
 ]
}
